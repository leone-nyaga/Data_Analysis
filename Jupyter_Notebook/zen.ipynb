{
 "cells": [
  {
   "cell_type": "code",
   "execution_count": null,
   "id": "fbd9ce5c-ccd6-424d-9984-ab5285a40ddf",
   "metadata": {},
   "outputs": [],
   "source": []
  }
 ],
 "metadata": {
  "kernelspec": {
   "display_name": "",
   "name": ""
  },
  "language_info": {
   "name": ""
  }
 },
 "nbformat": 4,
 "nbformat_minor": 5
}
