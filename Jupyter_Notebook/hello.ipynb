{
 "cells": [
  {
   "cell_type": "code",
   "execution_count": 1,
   "id": "f837dc9b-404c-4813-8d2d-2cd395eeea20",
   "metadata": {},
   "outputs": [
    {
     "name": "stdout",
     "output_type": "stream",
     "text": [
      "Hello Jupyter Notebook\n"
     ]
    }
   ],
   "source": [
    "print(\"Hello Jupyter Notebook\")"
   ]
  },
  {
   "cell_type": "code",
   "execution_count": null,
   "id": "0c8b757c-16de-49cb-9bda-ad37a5dc15e3",
   "metadata": {},
   "outputs": [],
   "source": [
    "x = \"MIKE\"\n",
    "y = \"SHINODA\"\n"
   ]
  }
 ],
 "metadata": {
  "kernelspec": {
   "display_name": "Python 3 (ipykernel)",
   "language": "python",
   "name": "python3"
  },
  "language_info": {
   "codemirror_mode": {
    "name": "ipython",
    "version": 3
   },
   "file_extension": ".py",
   "mimetype": "text/x-python",
   "name": "python",
   "nbconvert_exporter": "python",
   "pygments_lexer": "ipython3",
   "version": "3.8.10"
  }
 },
 "nbformat": 4,
 "nbformat_minor": 5
}
