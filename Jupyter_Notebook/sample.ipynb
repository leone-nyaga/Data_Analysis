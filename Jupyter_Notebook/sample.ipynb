{
 "cells": [
  {
   "cell_type": "markdown",
   "id": "fb8b25b6-e97f-4502-88ed-be1f0a29cdbe",
   "metadata": {},
   "source": [
    "HELLO JUPYTER\n",
    "\n",
    "This is my first time writing in jupyter notebook, i am so excited.\n",
    "Am planning on learning Data Analysis and i think getting right with the environment is the first step.\n",
    "So here are some python examples>.\n"
   ]
  },
  {
   "cell_type": "raw",
   "id": "3675a4a0-4431-46a6-a876-f8d1caf34860",
   "metadata": {},
   "source": [
    "This first one will print some few lines of Bootylicious by Destiny's Child."
   ]
  },
  {
   "cell_type": "code",
   "execution_count": 2,
   "id": "26747eeb-d127-4160-b55c-8a3047735e04",
   "metadata": {},
   "outputs": [
    {
     "name": "stdout",
     "output_type": "stream",
     "text": [
      "Kelly, can they handle this?\n",
      "Mitchelle, can they handle this?\n",
      "Beyonce, can they handle this?\n",
      "I don't think they can handle this!\n"
     ]
    }
   ],
   "source": [
    "destiny = [\"Kelly\", \"Mitchelle\", \"Beyonce\"]\n",
    "\n",
    "for child in destiny:\n",
    "    print(f\"{child}, can they handle this?\")\n",
    "print(\"I don't think they can handle this!\")"
   ]
  },
  {
   "cell_type": "raw",
   "id": "601ed055-e693-48d8-8b80-4d7176d7b74d",
   "metadata": {},
   "source": [
    "Below I'll do the same code, but in R"
   ]
  },
  {
   "cell_type": "markdown",
   "id": "df91749a-e3d6-4a0c-a580-43d53a25cf19",
   "metadata": {},
   "source": [
    "with this for loop example, i can say i am ready to d\n"
   ]
  },
  {
   "cell_type": "code",
   "execution_count": null,
   "id": "3e8dcfae-8133-4f9c-a9fe-b75ee8e4b06b",
   "metadata": {},
   "outputs": [],
   "source": []
  }
 ],
 "metadata": {
  "kernelspec": {
   "display_name": "Python 3 (ipykernel)",
   "language": "python",
   "name": "python3"
  },
  "language_info": {
   "codemirror_mode": {
    "name": "ipython",
    "version": 3
   },
   "file_extension": ".py",
   "mimetype": "text/x-python",
   "name": "python",
   "nbconvert_exporter": "python",
   "pygments_lexer": "ipython3",
   "version": "3.8.10"
  }
 },
 "nbformat": 4,
 "nbformat_minor": 5
}
