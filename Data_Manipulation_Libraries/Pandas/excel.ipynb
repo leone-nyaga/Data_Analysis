{
 "cells": [
  {
   "cell_type": "markdown",
   "id": "6b181d41-3001-4088-9d44-6ebb637af05c",
   "metadata": {},
   "source": [
    "# Working with Excel files using Pandas"
   ]
  },
  {
   "cell_type": "markdown",
   "id": "d8bc5e30-c52f-4733-9249-bf5b3a87c04d",
   "metadata": {},
   "source": [
    "Excel sheets are very instinctive and user-friendly, which makes them ideal for manipulating large datasets even for less technical folks."
   ]
  },
  {
   "cell_type": "markdown",
   "id": "8a5b3985-6c69-4b8a-a36b-3c520142740e",
   "metadata": {},
   "source": [
    "## Reading Excel File using Pandas in Python"
   ]
  },
  {
   "cell_type": "markdown",
   "id": "3a778e4d-b3b1-4200-b1b4-7cab39ea2a0c",
   "metadata": {},
   "source": [
    "One can retrieve information from a spreadsheet.\n",
    "Reading, writing, or modifying the data can be done in Python using different methods.\n",
    "Also, the user might have to go through various sheets and retrieve data based on some criteria or modify some rows and columns and do a lot of work.\n",
    "Here, we will see the different methods to read our excel file."
   ]
  },
  {
   "cell_type": "markdown",
   "id": "aa22033e-6f7d-471a-a279-4b18cf301240",
   "metadata": {},
   "source": [
    "### Required Module\n",
    "```bash\n",
    "pip3 install xlrd\n",
    "```\n",
    "AND\n",
    "\n",
    "```bash\n",
    "pip3 install openpyxl //most important\n",
    "```"
   ]
  },
  {
   "cell_type": "code",
   "execution_count": 1,
   "id": "081bd2fb-8994-4317-8dbc-ead089d033cc",
   "metadata": {},
   "outputs": [],
   "source": [
    "import pandas as pd"
   ]
  },
  {
   "cell_type": "markdown",
   "id": "f2dbeac2-ee56-418b-907a-45c34f25d650",
   "metadata": {},
   "source": [
    "## Reading an excel file using Python using Pandas"
   ]
  },
  {
   "cell_type": "markdown",
   "id": "4b14b6cc-3464-4cde-8cdb-9f1bdb77a020",
   "metadata": {},
   "source": [
    "we use read_excel() function"
   ]
  },
  {
   "cell_type": "code",
   "execution_count": 2,
   "id": "340f1973-67a5-4ec6-9ef6-749b3c543dd2",
   "metadata": {},
   "outputs": [
    {
     "name": "stdout",
     "output_type": "stream",
     "text": [
      "       Name   Age    Stream  Percentage\n",
      "0      Ankit   18      Math          95\n",
      "1      Rahul   19   Science          90\n",
      "2    Shaurya   20  Commerce          85\n",
      "3  Aishwarya   18      Math          80\n",
      "4   Priyanka   19   Science          75\n"
     ]
    }
   ],
   "source": [
    "df = pd.read_excel('SampleWork.xlsx')\n",
    "print(df)"
   ]
  },
  {
   "cell_type": "markdown",
   "id": "1c7cbcbf-be55-4cf0-89d1-3c05a6030688",
   "metadata": {},
   "source": [
    "## read_excel() function"
   ]
  },
  {
   "cell_type": "code",
   "execution_count": null,
   "id": "7dcdf80a-ee40-4afe-8a14-f202dfbfc8a1",
   "metadata": {},
   "outputs": [],
   "source": [
    "pd.read_excel(io, sheet_name=0, header=0, names=None, usecols=None, nrows=None, skiprows=None, engine=None, true_values=None, comment=None, converters=None)"
   ]
  },
  {
   "cell_type": "markdown",
   "id": "e57df856-d960-4a86-a79b-374e435b4082",
   "metadata": {},
   "source": [
    "### Parameters"
   ]
  },
  {
   "cell_type": "markdown",
   "id": "23e0cffa-be07-4a00-bdf1-5333280d2b2a",
   "metadata": {},
   "source": [
    "+ **io: str, bytes, ExcelFile, xlrd.Book, path object, or file-like object**\n",
    "  + Any valid string path is acceptable. The string could be a URL.\n",
    "  + Valid URL schemes include http, ftp, s3, and file.\n",
    "  + For file URLs, a host is expected.\n",
    "\n",
    "+ **sheet_namestr, int, list, or None, default 0**\n",
    "  + Which sheet to read\n",
    "  + 0: first(default)\n",
    "\n",
    "+ **header**\n",
    "  + Row number to use as column headers\n",
    "\n",
    "+ **names**\n",
    "  + Override column names\n",
    "  + Example:\n",
    "  + ```python\n",
    "    pd.read_excel(\"data.xlsx\", header=None, names=[\"Name\", \"Age\"])\n",
    "    ```\n",
    "\n",
    "+ **usecols**\n",
    "  + Which columns to read\n",
    "\n",
    "+ **skiprows**\n",
    "  + Number of rows or list of rows to skip at the top\n",
    "\n",
    "+ **nrows**\n",
    "  + Number of rows to read\n",
    "\n",
    "+ **engine**\n",
    "  + Backend library to use\n",
    "  + \"openpyxl\" → Recommended for .xlsx\n",
    "  + \"xlrd\" → Legacy support for .xls only (not .xlsx anymore)\n",
    "\n",
    "+ **true_values**\n",
    "  + Values to recognize as True\n",
    "  + E.g.\n",
    "  + ```python\n",
    "    true_values=[\"YES\", \"Y\", \"True\"]\n",
    "    ```\n",
    "\n",
    "+ **comment**\n",
    "  + Characters marking comments (ignored)\n",
    "  + Lines starting with # will be ignored\n",
    "\n",
    "+ **converters**\n",
    "  + Dict of column converters (functions)\n",
    "  + Force a type or apply transformation while reading\n",
    "  + Example:\n",
    "  + ```python\n",
    "    converters={'Date': pd.to_datetime, 'ID': str}\n",
    "    ```"
   ]
  }
 ],
 "metadata": {
  "kernelspec": {
   "display_name": "Python 3 (ipykernel)",
   "language": "python",
   "name": "python3"
  },
  "language_info": {
   "codemirror_mode": {
    "name": "ipython",
    "version": 3
   },
   "file_extension": ".py",
   "mimetype": "text/x-python",
   "name": "python",
   "nbconvert_exporter": "python",
   "pygments_lexer": "ipython3",
   "version": "3.8.10"
  }
 },
 "nbformat": 4,
 "nbformat_minor": 5
}
