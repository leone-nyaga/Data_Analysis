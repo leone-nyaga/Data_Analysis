{
 "cells": [
  {
   "cell_type": "markdown",
   "id": "6b181d41-3001-4088-9d44-6ebb637af05c",
   "metadata": {},
   "source": [
    "# Working with Excel files using Pandas"
   ]
  },
  {
   "cell_type": "markdown",
   "id": "d8bc5e30-c52f-4733-9249-bf5b3a87c04d",
   "metadata": {},
   "source": [
    "Excel sheets are very instinctive and user-friendly, which makes them ideal for manipulating large datasets even for less technical folks."
   ]
  },
  {
   "cell_type": "markdown",
   "id": "8a5b3985-6c69-4b8a-a36b-3c520142740e",
   "metadata": {},
   "source": [
    "## Reading Excel File using Pandas in Python"
   ]
  },
  {
   "cell_type": "markdown",
   "id": "3a778e4d-b3b1-4200-b1b4-7cab39ea2a0c",
   "metadata": {},
   "source": [
    "One can retrieve information from a spreadsheet.\n",
    "Reading, writing, or modifying the data can be done in Python using different methods.\n",
    "Also, the user might have to go through various sheets and retrieve data based on some criteria or modify some rows and columns and do a lot of work.\n",
    "Here, we will see the different methods to read our excel file."
   ]
  },
  {
   "cell_type": "markdown",
   "id": "aa22033e-6f7d-471a-a279-4b18cf301240",
   "metadata": {},
   "source": [
    "### Required Module\n",
    "```bash\n",
    "pip install xlrd\n",
    "```"
   ]
  },
  {
   "cell_type": "code",
   "execution_count": null,
   "id": "081bd2fb-8994-4317-8dbc-ead089d033cc",
   "metadata": {},
   "outputs": [],
   "source": []
  }
 ],
 "metadata": {
  "kernelspec": {
   "display_name": "Python 3 (ipykernel)",
   "language": "python",
   "name": "python3"
  },
  "language_info": {
   "codemirror_mode": {
    "name": "ipython",
    "version": 3
   },
   "file_extension": ".py",
   "mimetype": "text/x-python",
   "name": "python",
   "nbconvert_exporter": "python",
   "pygments_lexer": "ipython3",
   "version": "3.8.10"
  }
 },
 "nbformat": 4,
 "nbformat_minor": 5
}
