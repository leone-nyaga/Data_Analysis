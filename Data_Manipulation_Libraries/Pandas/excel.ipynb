{
 "cells": [
  {
   "cell_type": "markdown",
   "id": "6b181d41-3001-4088-9d44-6ebb637af05c",
   "metadata": {},
   "source": [
    "# Working with Excel files using Pandas"
   ]
  },
  {
   "cell_type": "markdown",
   "id": "d8bc5e30-c52f-4733-9249-bf5b3a87c04d",
   "metadata": {},
   "source": [
    "Excel sheets are very instinctive and user-friendly, which makes them ideal for manipulating large datasets even for less technical folks."
   ]
  },
  {
   "cell_type": "markdown",
   "id": "8a5b3985-6c69-4b8a-a36b-3c520142740e",
   "metadata": {},
   "source": [
    "## Reading Excel File using Pandas in Python"
   ]
  },
  {
   "cell_type": "markdown",
   "id": "3a778e4d-b3b1-4200-b1b4-7cab39ea2a0c",
   "metadata": {},
   "source": [
    "One can retrieve information from a spreadsheet.\n",
    "Reading, writing, or modifying the data can be done in Python using different methods.\n",
    "Also, the user might have to go through various sheets and retrieve data based on some criteria or modify some rows and columns and do a lot of work.\n",
    "Here, we will see the different methods to read our excel file."
   ]
  },
  {
   "cell_type": "markdown",
   "id": "aa22033e-6f7d-471a-a279-4b18cf301240",
   "metadata": {},
   "source": [
    "### Required Module\n",
    "```bash\n",
    "pip3 install xlrd\n",
    "```\n",
    "AND\n",
    "\n",
    "```bash\n",
    "pip3 install openpyxl //most important\n",
    "```"
   ]
  },
  {
   "cell_type": "code",
   "execution_count": 1,
   "id": "081bd2fb-8994-4317-8dbc-ead089d033cc",
   "metadata": {},
   "outputs": [],
   "source": [
    "import pandas as pd"
   ]
  },
  {
   "cell_type": "markdown",
   "id": "f2dbeac2-ee56-418b-907a-45c34f25d650",
   "metadata": {},
   "source": [
    "## Reading an excel file using Python using Pandas"
   ]
  },
  {
   "cell_type": "markdown",
   "id": "4b14b6cc-3464-4cde-8cdb-9f1bdb77a020",
   "metadata": {},
   "source": [
    "we use read_excel() function"
   ]
  },
  {
   "cell_type": "code",
   "execution_count": 2,
   "id": "340f1973-67a5-4ec6-9ef6-749b3c543dd2",
   "metadata": {},
   "outputs": [
    {
     "name": "stdout",
     "output_type": "stream",
     "text": [
      "       Name   Age    Stream  Percentage\n",
      "0      Ankit   18      Math          95\n",
      "1      Rahul   19   Science          90\n",
      "2    Shaurya   20  Commerce          85\n",
      "3  Aishwarya   18      Math          80\n",
      "4   Priyanka   19   Science          75\n"
     ]
    }
   ],
   "source": [
    "df = pd.read_excel('SampleWork.xlsx')\n",
    "print(df)"
   ]
  },
  {
   "cell_type": "markdown",
   "id": "1c7cbcbf-be55-4cf0-89d1-3c05a6030688",
   "metadata": {},
   "source": [
    "## read_excel() function"
   ]
  },
  {
   "cell_type": "code",
   "execution_count": null,
   "id": "7dcdf80a-ee40-4afe-8a14-f202dfbfc8a1",
   "metadata": {},
   "outputs": [],
   "source": [
    "pd.read_excel(io, sheet_name=0, header=0, names=None, usecols=None, nrows=None, skiprows=None, engine=None, true_values=None, comment=None, converters=None)"
   ]
  },
  {
   "cell_type": "markdown",
   "id": "e57df856-d960-4a86-a79b-374e435b4082",
   "metadata": {},
   "source": [
    "### Parameters"
   ]
  },
  {
   "cell_type": "markdown",
   "id": "23e0cffa-be07-4a00-bdf1-5333280d2b2a",
   "metadata": {},
   "source": [
    "+ **io: str, bytes, ExcelFile, xlrd.Book, path object, or file-like object**\n",
    "  + Any valid string path is acceptable. The string could be a URL.\n",
    "  + Valid URL schemes include http, ftp, s3, and file.\n",
    "  + For file URLs, a host is expected.\n",
    "\n",
    "+ **sheet_namestr, int, list, or None, default 0**\n",
    "  + Which sheet to read\n",
    "  + 0: first(default)\n",
    "\n",
    "+ **header**\n",
    "  + Row number to use as column headers\n",
    "\n",
    "+ **names**\n",
    "  + Override column names\n",
    "  + Example:\n",
    "  + ```python\n",
    "    pd.read_excel(\"data.xlsx\", header=None, names=[\"Name\", \"Age\"])\n",
    "    ```\n",
    "\n",
    "+ **usecols**\n",
    "  + Which columns to read\n",
    "\n",
    "+ **skiprows**\n",
    "  + Number of rows or list of rows to skip at the top\n",
    "\n",
    "+ **nrows**\n",
    "  + Number of rows to read\n",
    "\n",
    "+ **engine**\n",
    "  + Backend library to use\n",
    "  + \"openpyxl\" → Recommended for .xlsx\n",
    "  + \"xlrd\" → Legacy support for .xls only (not .xlsx anymore)\n",
    "\n",
    "+ **true_values**\n",
    "  + Values to recognize as True\n",
    "  + E.g.\n",
    "  + ```python\n",
    "    true_values=[\"YES\", \"Y\", \"True\"]\n",
    "    ```\n",
    "\n",
    "+ **comment**\n",
    "  + Characters marking comments (ignored)\n",
    "  + Lines starting with # will be ignored\n",
    "\n",
    "+ **converters**\n",
    "  + Dict of column converters (functions)\n",
    "  + Force a type or apply transformation while reading\n",
    "  + Example:\n",
    "  + ```python\n",
    "    converters={'Date': pd.to_datetime, 'ID': str}\n",
    "    ```"
   ]
  },
  {
   "cell_type": "markdown",
   "id": "8d7da760-2b53-4e26-adf9-86cb6f8d712a",
   "metadata": {},
   "source": [
    "## Some operations"
   ]
  },
  {
   "cell_type": "markdown",
   "id": "1b95dd29-b7dd-4d8f-867a-48498648bd57",
   "metadata": {},
   "source": [
    "1. So, let's create a simple excel file"
   ]
  },
  {
   "cell_type": "code",
   "execution_count": 2,
   "id": "cd02d259-68d9-413b-8e0f-11514777e465",
   "metadata": {},
   "outputs": [],
   "source": [
    "# import the pandas library with the alias pd\n",
    "import pandas as pd\n",
    "\n",
    "data = {\n",
    "    'Name': ['Alice', 'Bob', 'Charlie'],\n",
    "    'Age': [25, 30, 35],\n",
    "    'City': ['New York', 'Los Angeles', 'Chicago']\n",
    "}\n",
    "\n",
    "df = pd.DataFrame(data)\n",
    "\n",
    "df.to_excel('people.xlsx', index=False)"
   ]
  },
  {
   "cell_type": "markdown",
   "id": "bad194e4-aefb-4964-b20e-a5ee4ec03bfe",
   "metadata": {},
   "source": [
    "2. Now, let's view the (people.xlsx) file"
   ]
  },
  {
   "cell_type": "code",
   "execution_count": 3,
   "id": "9e126db5-2e8c-4e0a-a3c2-7446a52e98c4",
   "metadata": {},
   "outputs": [
    {
     "name": "stdout",
     "output_type": "stream",
     "text": [
      "      Name  Age         City\n",
      "0    Alice   25     New York\n",
      "1      Bob   30  Los Angeles\n",
      "2  Charlie   35      Chicago\n"
     ]
    }
   ],
   "source": [
    "import pandas as pd\n",
    "\n",
    "df = pd.read_excel('people.xlsx')\n",
    "print(df)"
   ]
  },
  {
   "cell_type": "markdown",
   "id": "67fe59d0-93ca-47c4-834f-7a8e136ec072",
   "metadata": {},
   "source": [
    "3. Let's create some sheets"
   ]
  },
  {
   "cell_type": "code",
   "execution_count": 1,
   "id": "6218448a-aa26-4f1a-9625-b99ab69d8c0a",
   "metadata": {},
   "outputs": [],
   "source": [
    "import pandas as pd\n",
    "\n",
    "data = {\n",
    "    'Name': ['Alice', 'Bob', 'Charlie'],\n",
    "    'Age': [25, 30, 35],\n",
    "    'City': ['New York', 'Los Angeles', 'Chicago'],\n",
    "    'Email': ['alice@example.com', 'bob@example.com', 'charlie@example.com']\n",
    "}\n",
    "\n",
    "df = pd.DataFrame(data)\n",
    "\n",
    "# sheet 1: Employees\n",
    "employees_df = df[['Name', 'Age']]\n",
    "\n",
    "#sheet 2: Contacts\n",
    "contacts_df = df[['Name', 'Age', 'Email']]\n",
    "\n",
    "#sheet 3: FullData (the full DataFrame)\n",
    "full_df = df.copy()\n",
    "\n",
    "# Write all three sheets to the same Excel file\n",
    "with pd.ExcelWriter('people.xlsx', engine='openpyxl', mode='w') as writer:\n",
    "    employees_df.to_excel(writer, sheet_name='Employees', index=False),\n",
    "    contacts_df.to_excel(writer, sheet_name='Contacts', index=False),\n",
    "    full_df.to_excel(writer, sheet_name='Full_Data', index=False)"
   ]
  },
  {
   "cell_type": "markdown",
   "id": "46c91aae-9859-4aea-848b-0e52ba5751a3",
   "metadata": {},
   "source": [
    "let's see if it worked"
   ]
  },
  {
   "cell_type": "code",
   "execution_count": 2,
   "id": "8443fe4f-27e3-4d07-a4a0-38ab8513f93e",
   "metadata": {},
   "outputs": [
    {
     "name": "stdout",
     "output_type": "stream",
     "text": [
      "\n",
      "--- Employees Data ---\n",
      "\n",
      "      Name  Age\n",
      "0    Alice   25\n",
      "1      Bob   30\n",
      "2  Charlie   35\n",
      "\n",
      "--- Contacts Data ---\n",
      "\n",
      "      Name  Age                Email\n",
      "0    Alice   25    alice@example.com\n",
      "1      Bob   30      bob@example.com\n",
      "2  Charlie   35  charlie@example.com\n",
      "\n",
      "--- Full Data ---\n",
      "\n",
      "      Name  Age         City                Email\n",
      "0    Alice   25     New York    alice@example.com\n",
      "1      Bob   30  Los Angeles      bob@example.com\n",
      "2  Charlie   35      Chicago  charlie@example.com\n"
     ]
    }
   ],
   "source": [
    "import pandas as pd\n",
    "\n",
    "people_data = pd.read_excel('people.xlsx', sheet_name=['Employees', 'Contacts', 'Full_Data'])\n",
    "print(\"\\n--- Employees Data ---\\n\")\n",
    "print(people_data['Employees'])\n",
    "\n",
    "print(\"\\n--- Contacts Data ---\\n\")\n",
    "print(people_data['Contacts'])\n",
    "\n",
    "print(\"\\n--- Full Data ---\\n\")\n",
    "print(people_data['Full_Data'])"
   ]
  },
  {
   "cell_type": "markdown",
   "id": "dda7e6b5-21cd-4491-98b9-6885d07fcd87",
   "metadata": {},
   "source": [
    "4. shape property"
   ]
  },
  {
   "cell_type": "markdown",
   "id": "9ab64387-9e80-4416-9d48-6ee4071cce14",
   "metadata": {},
   "source": [
    "The .shape can be used to view the number of rows and columns in the data frame as follows: "
   ]
  },
  {
   "cell_type": "code",
   "execution_count": null,
   "id": "3245a90f-010e-4eef-beda-8d8bf33fb0ce",
   "metadata": {},
   "outputs": [],
   "source": [
    "# syntax\n",
    "(rows, columns)"
   ]
  },
  {
   "cell_type": "code",
   "execution_count": 5,
   "id": "257dcca9-b92a-41cb-8eab-ce46c3704f44",
   "metadata": {},
   "outputs": [
    {
     "name": "stdout",
     "output_type": "stream",
     "text": [
      "(3, 4)\n"
     ]
    }
   ],
   "source": [
    "print(df.shape)"
   ]
  },
  {
   "cell_type": "code",
   "execution_count": 6,
   "id": "a07f4bb6-ffd3-4415-a15e-621f1be2e456",
   "metadata": {},
   "outputs": [
    {
     "name": "stdout",
     "output_type": "stream",
     "text": [
      "(3, 2)\n"
     ]
    }
   ],
   "source": [
    "# Employees sheet\n",
    "print(employees_df.shape)"
   ]
  },
  {
   "cell_type": "code",
   "execution_count": 7,
   "id": "a8246a22-c379-4756-b892-a3eaba9b5aee",
   "metadata": {},
   "outputs": [
    {
     "name": "stdout",
     "output_type": "stream",
     "text": [
      "(3, 3)\n"
     ]
    }
   ],
   "source": [
    "# Contacts sheet\n",
    "print(contacts_df.shape)"
   ]
  },
  {
   "cell_type": "code",
   "execution_count": 8,
   "id": "f1fb2288-c48b-41ff-b133-8f4722fa9640",
   "metadata": {},
   "outputs": [
    {
     "name": "stdout",
     "output_type": "stream",
     "text": [
      "(3, 4)\n"
     ]
    }
   ],
   "source": [
    "# Full Data sheet\n",
    "print(full_df.shape)"
   ]
  },
  {
   "cell_type": "markdown",
   "id": "6556ff9d-78e7-4dc7-9d09-4d33da4a3364",
   "metadata": {},
   "source": [
    "5. Pandas Describe() method"
   ]
  },
  {
   "cell_type": "markdown",
   "id": "fd492df3-a084-4ea9-b8c1-cc68780e8ad1",
   "metadata": {},
   "source": [
    "Now, suppose our data is mostly numerical.\n",
    "We can get the statistical information like mean, max, min, etc. about the data frame using the describe() method as shown below: "
   ]
  },
  {
   "cell_type": "code",
   "execution_count": 9,
   "id": "fd8c5e1b-0090-41eb-bca8-e9d18e00f647",
   "metadata": {},
   "outputs": [
    {
     "data": {
      "text/html": [
       "<div>\n",
       "<style scoped>\n",
       "    .dataframe tbody tr th:only-of-type {\n",
       "        vertical-align: middle;\n",
       "    }\n",
       "\n",
       "    .dataframe tbody tr th {\n",
       "        vertical-align: top;\n",
       "    }\n",
       "\n",
       "    .dataframe thead th {\n",
       "        text-align: right;\n",
       "    }\n",
       "</style>\n",
       "<table border=\"1\" class=\"dataframe\">\n",
       "  <thead>\n",
       "    <tr style=\"text-align: right;\">\n",
       "      <th></th>\n",
       "      <th>Age</th>\n",
       "    </tr>\n",
       "  </thead>\n",
       "  <tbody>\n",
       "    <tr>\n",
       "      <th>count</th>\n",
       "      <td>3.0</td>\n",
       "    </tr>\n",
       "    <tr>\n",
       "      <th>mean</th>\n",
       "      <td>30.0</td>\n",
       "    </tr>\n",
       "    <tr>\n",
       "      <th>std</th>\n",
       "      <td>5.0</td>\n",
       "    </tr>\n",
       "    <tr>\n",
       "      <th>min</th>\n",
       "      <td>25.0</td>\n",
       "    </tr>\n",
       "    <tr>\n",
       "      <th>25%</th>\n",
       "      <td>27.5</td>\n",
       "    </tr>\n",
       "    <tr>\n",
       "      <th>50%</th>\n",
       "      <td>30.0</td>\n",
       "    </tr>\n",
       "    <tr>\n",
       "      <th>75%</th>\n",
       "      <td>32.5</td>\n",
       "    </tr>\n",
       "    <tr>\n",
       "      <th>max</th>\n",
       "      <td>35.0</td>\n",
       "    </tr>\n",
       "  </tbody>\n",
       "</table>\n",
       "</div>"
      ],
      "text/plain": [
       "        Age\n",
       "count   3.0\n",
       "mean   30.0\n",
       "std     5.0\n",
       "min    25.0\n",
       "25%    27.5\n",
       "50%    30.0\n",
       "75%    32.5\n",
       "max    35.0"
      ]
     },
     "execution_count": 9,
     "metadata": {},
     "output_type": "execute_result"
    }
   ],
   "source": [
    "df.describe()"
   ]
  },
  {
   "cell_type": "code",
   "execution_count": 10,
   "id": "2e055b76-035e-46f1-99ea-d4b5d3279fc3",
   "metadata": {},
   "outputs": [
    {
     "data": {
      "text/html": [
       "<div>\n",
       "<style scoped>\n",
       "    .dataframe tbody tr th:only-of-type {\n",
       "        vertical-align: middle;\n",
       "    }\n",
       "\n",
       "    .dataframe tbody tr th {\n",
       "        vertical-align: top;\n",
       "    }\n",
       "\n",
       "    .dataframe thead th {\n",
       "        text-align: right;\n",
       "    }\n",
       "</style>\n",
       "<table border=\"1\" class=\"dataframe\">\n",
       "  <thead>\n",
       "    <tr style=\"text-align: right;\">\n",
       "      <th></th>\n",
       "      <th>Age</th>\n",
       "    </tr>\n",
       "  </thead>\n",
       "  <tbody>\n",
       "    <tr>\n",
       "      <th>count</th>\n",
       "      <td>3.0</td>\n",
       "    </tr>\n",
       "    <tr>\n",
       "      <th>mean</th>\n",
       "      <td>30.0</td>\n",
       "    </tr>\n",
       "    <tr>\n",
       "      <th>std</th>\n",
       "      <td>5.0</td>\n",
       "    </tr>\n",
       "    <tr>\n",
       "      <th>min</th>\n",
       "      <td>25.0</td>\n",
       "    </tr>\n",
       "    <tr>\n",
       "      <th>25%</th>\n",
       "      <td>27.5</td>\n",
       "    </tr>\n",
       "    <tr>\n",
       "      <th>50%</th>\n",
       "      <td>30.0</td>\n",
       "    </tr>\n",
       "    <tr>\n",
       "      <th>75%</th>\n",
       "      <td>32.5</td>\n",
       "    </tr>\n",
       "    <tr>\n",
       "      <th>max</th>\n",
       "      <td>35.0</td>\n",
       "    </tr>\n",
       "  </tbody>\n",
       "</table>\n",
       "</div>"
      ],
      "text/plain": [
       "        Age\n",
       "count   3.0\n",
       "mean   30.0\n",
       "std     5.0\n",
       "min    25.0\n",
       "25%    27.5\n",
       "50%    30.0\n",
       "75%    32.5\n",
       "max    35.0"
      ]
     },
     "execution_count": 10,
     "metadata": {},
     "output_type": "execute_result"
    }
   ],
   "source": [
    "# Employees sheet\n",
    "employees_df.describe()"
   ]
  },
  {
   "cell_type": "code",
   "execution_count": 11,
   "id": "f6a8c706-393d-45c4-ba70-0673a60a4a6a",
   "metadata": {},
   "outputs": [
    {
     "data": {
      "text/html": [
       "<div>\n",
       "<style scoped>\n",
       "    .dataframe tbody tr th:only-of-type {\n",
       "        vertical-align: middle;\n",
       "    }\n",
       "\n",
       "    .dataframe tbody tr th {\n",
       "        vertical-align: top;\n",
       "    }\n",
       "\n",
       "    .dataframe thead th {\n",
       "        text-align: right;\n",
       "    }\n",
       "</style>\n",
       "<table border=\"1\" class=\"dataframe\">\n",
       "  <thead>\n",
       "    <tr style=\"text-align: right;\">\n",
       "      <th></th>\n",
       "      <th>Age</th>\n",
       "    </tr>\n",
       "  </thead>\n",
       "  <tbody>\n",
       "    <tr>\n",
       "      <th>count</th>\n",
       "      <td>3.0</td>\n",
       "    </tr>\n",
       "    <tr>\n",
       "      <th>mean</th>\n",
       "      <td>30.0</td>\n",
       "    </tr>\n",
       "    <tr>\n",
       "      <th>std</th>\n",
       "      <td>5.0</td>\n",
       "    </tr>\n",
       "    <tr>\n",
       "      <th>min</th>\n",
       "      <td>25.0</td>\n",
       "    </tr>\n",
       "    <tr>\n",
       "      <th>25%</th>\n",
       "      <td>27.5</td>\n",
       "    </tr>\n",
       "    <tr>\n",
       "      <th>50%</th>\n",
       "      <td>30.0</td>\n",
       "    </tr>\n",
       "    <tr>\n",
       "      <th>75%</th>\n",
       "      <td>32.5</td>\n",
       "    </tr>\n",
       "    <tr>\n",
       "      <th>max</th>\n",
       "      <td>35.0</td>\n",
       "    </tr>\n",
       "  </tbody>\n",
       "</table>\n",
       "</div>"
      ],
      "text/plain": [
       "        Age\n",
       "count   3.0\n",
       "mean   30.0\n",
       "std     5.0\n",
       "min    25.0\n",
       "25%    27.5\n",
       "50%    30.0\n",
       "75%    32.5\n",
       "max    35.0"
      ]
     },
     "execution_count": 11,
     "metadata": {},
     "output_type": "execute_result"
    }
   ],
   "source": [
    "# Contacts sheet\n",
    "contacts_df.describe()"
   ]
  },
  {
   "cell_type": "code",
   "execution_count": 12,
   "id": "286ce115-55ca-48ff-8aaa-61b7227e6d19",
   "metadata": {},
   "outputs": [
    {
     "data": {
      "text/html": [
       "<div>\n",
       "<style scoped>\n",
       "    .dataframe tbody tr th:only-of-type {\n",
       "        vertical-align: middle;\n",
       "    }\n",
       "\n",
       "    .dataframe tbody tr th {\n",
       "        vertical-align: top;\n",
       "    }\n",
       "\n",
       "    .dataframe thead th {\n",
       "        text-align: right;\n",
       "    }\n",
       "</style>\n",
       "<table border=\"1\" class=\"dataframe\">\n",
       "  <thead>\n",
       "    <tr style=\"text-align: right;\">\n",
       "      <th></th>\n",
       "      <th>Age</th>\n",
       "    </tr>\n",
       "  </thead>\n",
       "  <tbody>\n",
       "    <tr>\n",
       "      <th>count</th>\n",
       "      <td>3.0</td>\n",
       "    </tr>\n",
       "    <tr>\n",
       "      <th>mean</th>\n",
       "      <td>30.0</td>\n",
       "    </tr>\n",
       "    <tr>\n",
       "      <th>std</th>\n",
       "      <td>5.0</td>\n",
       "    </tr>\n",
       "    <tr>\n",
       "      <th>min</th>\n",
       "      <td>25.0</td>\n",
       "    </tr>\n",
       "    <tr>\n",
       "      <th>25%</th>\n",
       "      <td>27.5</td>\n",
       "    </tr>\n",
       "    <tr>\n",
       "      <th>50%</th>\n",
       "      <td>30.0</td>\n",
       "    </tr>\n",
       "    <tr>\n",
       "      <th>75%</th>\n",
       "      <td>32.5</td>\n",
       "    </tr>\n",
       "    <tr>\n",
       "      <th>max</th>\n",
       "      <td>35.0</td>\n",
       "    </tr>\n",
       "  </tbody>\n",
       "</table>\n",
       "</div>"
      ],
      "text/plain": [
       "        Age\n",
       "count   3.0\n",
       "mean   30.0\n",
       "std     5.0\n",
       "min    25.0\n",
       "25%    27.5\n",
       "50%    30.0\n",
       "75%    32.5\n",
       "max    35.0"
      ]
     },
     "execution_count": 12,
     "metadata": {},
     "output_type": "execute_result"
    }
   ],
   "source": [
    "# Full data\n",
    "full_df.describe()"
   ]
  },
  {
   "cell_type": "markdown",
   "id": "a8e26009-3aa5-47b9-b63a-81f5128a7d37",
   "metadata": {},
   "source": [
    "6. Head() and Tail() methods in Pandas"
   ]
  },
  {
   "cell_type": "markdown",
   "id": "38640fb4-a463-4201-aa4b-755649f6f278",
   "metadata": {},
   "source": [
    "To view columns from the top and from the bottom of the data frame, we can run the command.\n",
    "This head() and tail() method also take arguments as numbers for the number of columns to show. "
   ]
  },
  {
   "cell_type": "code",
   "execution_count": 13,
   "id": "6fbfa32f-a374-44b9-8075-69cc5e4243a7",
   "metadata": {},
   "outputs": [
    {
     "data": {
      "text/html": [
       "<div>\n",
       "<style scoped>\n",
       "    .dataframe tbody tr th:only-of-type {\n",
       "        vertical-align: middle;\n",
       "    }\n",
       "\n",
       "    .dataframe tbody tr th {\n",
       "        vertical-align: top;\n",
       "    }\n",
       "\n",
       "    .dataframe thead th {\n",
       "        text-align: right;\n",
       "    }\n",
       "</style>\n",
       "<table border=\"1\" class=\"dataframe\">\n",
       "  <thead>\n",
       "    <tr style=\"text-align: right;\">\n",
       "      <th></th>\n",
       "      <th>Name</th>\n",
       "      <th>Age</th>\n",
       "      <th>City</th>\n",
       "      <th>Email</th>\n",
       "    </tr>\n",
       "  </thead>\n",
       "  <tbody>\n",
       "    <tr>\n",
       "      <th>0</th>\n",
       "      <td>Alice</td>\n",
       "      <td>25</td>\n",
       "      <td>New York</td>\n",
       "      <td>alice@example.com</td>\n",
       "    </tr>\n",
       "    <tr>\n",
       "      <th>1</th>\n",
       "      <td>Bob</td>\n",
       "      <td>30</td>\n",
       "      <td>Los Angeles</td>\n",
       "      <td>bob@example.com</td>\n",
       "    </tr>\n",
       "    <tr>\n",
       "      <th>2</th>\n",
       "      <td>Charlie</td>\n",
       "      <td>35</td>\n",
       "      <td>Chicago</td>\n",
       "      <td>charlie@example.com</td>\n",
       "    </tr>\n",
       "  </tbody>\n",
       "</table>\n",
       "</div>"
      ],
      "text/plain": [
       "      Name  Age         City                Email\n",
       "0    Alice   25     New York    alice@example.com\n",
       "1      Bob   30  Los Angeles      bob@example.com\n",
       "2  Charlie   35      Chicago  charlie@example.com"
      ]
     },
     "execution_count": 13,
     "metadata": {},
     "output_type": "execute_result"
    }
   ],
   "source": [
    "df.head()"
   ]
  },
  {
   "cell_type": "code",
   "execution_count": 14,
   "id": "d9c952da-fed6-46ef-ab67-e0e69f425dc2",
   "metadata": {},
   "outputs": [
    {
     "data": {
      "text/html": [
       "<div>\n",
       "<style scoped>\n",
       "    .dataframe tbody tr th:only-of-type {\n",
       "        vertical-align: middle;\n",
       "    }\n",
       "\n",
       "    .dataframe tbody tr th {\n",
       "        vertical-align: top;\n",
       "    }\n",
       "\n",
       "    .dataframe thead th {\n",
       "        text-align: right;\n",
       "    }\n",
       "</style>\n",
       "<table border=\"1\" class=\"dataframe\">\n",
       "  <thead>\n",
       "    <tr style=\"text-align: right;\">\n",
       "      <th></th>\n",
       "      <th>Name</th>\n",
       "      <th>Age</th>\n",
       "      <th>City</th>\n",
       "      <th>Email</th>\n",
       "    </tr>\n",
       "  </thead>\n",
       "  <tbody>\n",
       "    <tr>\n",
       "      <th>0</th>\n",
       "      <td>Alice</td>\n",
       "      <td>25</td>\n",
       "      <td>New York</td>\n",
       "      <td>alice@example.com</td>\n",
       "    </tr>\n",
       "    <tr>\n",
       "      <th>1</th>\n",
       "      <td>Bob</td>\n",
       "      <td>30</td>\n",
       "      <td>Los Angeles</td>\n",
       "      <td>bob@example.com</td>\n",
       "    </tr>\n",
       "    <tr>\n",
       "      <th>2</th>\n",
       "      <td>Charlie</td>\n",
       "      <td>35</td>\n",
       "      <td>Chicago</td>\n",
       "      <td>charlie@example.com</td>\n",
       "    </tr>\n",
       "  </tbody>\n",
       "</table>\n",
       "</div>"
      ],
      "text/plain": [
       "      Name  Age         City                Email\n",
       "0    Alice   25     New York    alice@example.com\n",
       "1      Bob   30  Los Angeles      bob@example.com\n",
       "2  Charlie   35      Chicago  charlie@example.com"
      ]
     },
     "execution_count": 14,
     "metadata": {},
     "output_type": "execute_result"
    }
   ],
   "source": [
    "df.tail()"
   ]
  },
  {
   "cell_type": "markdown",
   "id": "61d11a49-402e-4c02-ab25-9075a23fc5f3",
   "metadata": {},
   "source": [
    "7. Sort_values() method in Pandas"
   ]
  },
  {
   "cell_type": "markdown",
   "id": "c7093fe5-fc2f-4725-a323-58bb3b8df11b",
   "metadata": {},
   "source": [
    "If any column contains numerical data, we can sort that column using the sort_values() method in pandas as follows: "
   ]
  },
  {
   "cell_type": "code",
   "execution_count": null,
   "id": "e69c0fdb-e5c6-42b8-b9f0-d40f6eeef6e3",
   "metadata": {},
   "outputs": [],
   "source": [
    "# syntax\n",
    "df.sort_values(by, ascending=True, inplace=False) # there isn't a \"descending\""
   ]
  },
  {
   "cell_type": "markdown",
   "id": "7429cadc-6e0f-456a-a667-7b73757d7d37",
   "metadata": {},
   "source": [
    "+ Parameters:\n",
    "  + **by**: Column name (or list of column names) to sort by.\n",
    "  + **ascending**: True (default) sorts in ascending order; use False for descending.\n",
    "  + **inplace**: If True, modifies the DataFrame in place."
   ]
  },
  {
   "cell_type": "code",
   "execution_count": 16,
   "id": "369fffbb-2a5d-4a69-8ba0-d179f9799f0e",
   "metadata": {},
   "outputs": [
    {
     "name": "stdout",
     "output_type": "stream",
     "text": [
      "      Name  Age         City                Email\n",
      "0    Alice   25     New York    alice@example.com\n",
      "1      Bob   30  Los Angeles      bob@example.com\n",
      "2  Charlie   35      Chicago  charlie@example.com\n",
      "\n",
      "\n",
      "      Name  Age         City                Email\n",
      "2  Charlie   35      Chicago  charlie@example.com\n",
      "1      Bob   30  Los Angeles      bob@example.com\n",
      "0    Alice   25     New York    alice@example.com\n"
     ]
    }
   ],
   "source": [
    "# sort by \"Age\"\n",
    "sorted_df = df.sort_values(by='Age')\n",
    "print(sorted_df)\n",
    "print('\\n')\n",
    "# Multiple columns\n",
    "print(df.sort_values(by=['City', 'Age'], ascending=[True, False]))"
   ]
  },
  {
   "cell_type": "code",
   "execution_count": null,
   "id": "96f76ddc-d82c-46e1-93c2-84ede3b600a0",
   "metadata": {},
   "outputs": [],
   "source": []
  }
 ],
 "metadata": {
  "kernelspec": {
   "display_name": "Python 3 (ipykernel)",
   "language": "python",
   "name": "python3"
  },
  "language_info": {
   "codemirror_mode": {
    "name": "ipython",
    "version": 3
   },
   "file_extension": ".py",
   "mimetype": "text/x-python",
   "name": "python",
   "nbconvert_exporter": "python",
   "pygments_lexer": "ipython3",
   "version": "3.8.10"
  }
 },
 "nbformat": 4,
 "nbformat_minor": 5
}
