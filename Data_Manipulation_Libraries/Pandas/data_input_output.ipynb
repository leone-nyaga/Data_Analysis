{
 "cells": [
  {
   "cell_type": "markdown",
   "id": "42a10486-1936-4d90-be90-08378791c1ed",
   "metadata": {},
   "source": [
    "# PANDAS READ CSV IN PYTHON"
   ]
  },
  {
   "cell_type": "markdown",
   "id": "321d2264-666e-457f-9930-b4d15a1e96eb",
   "metadata": {},
   "source": [
    "CSV stands for Comma-Separated Values.\n",
    "It is a simple text-based file format used to store tabular data (like a spreadsheet or database table) in which each line represents a row and each value within that row is separated by a comma."
   ]
  }
 ],
 "metadata": {
  "kernelspec": {
   "display_name": "Python 3 (ipykernel)",
   "language": "python",
   "name": "python3"
  },
  "language_info": {
   "codemirror_mode": {
    "name": "ipython",
    "version": 3
   },
   "file_extension": ".py",
   "mimetype": "text/x-python",
   "name": "python",
   "nbconvert_exporter": "python",
   "pygments_lexer": "ipython3",
   "version": "3.8.10"
  }
 },
 "nbformat": 4,
 "nbformat_minor": 5
}
