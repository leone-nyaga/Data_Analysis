{
 "cells": [
  {
   "cell_type": "markdown",
   "id": "42a10486-1936-4d90-be90-08378791c1ed",
   "metadata": {},
   "source": [
    "# PANDAS READ CSV IN PYTHON"
   ]
  },
  {
   "cell_type": "markdown",
   "id": "321d2264-666e-457f-9930-b4d15a1e96eb",
   "metadata": {},
   "source": [
    "CSV stands for Comma-Separated Values.\n",
    "It is a simple text-based file format used to store tabular data (like a spreadsheet or database table) in which each line represents a row and each value within that row is separated by a comma."
   ]
  },
  {
   "cell_type": "code",
   "execution_count": 2,
   "id": "03f5661f-3d46-4dbd-9b79-7766d7c9acd7",
   "metadata": {},
   "outputs": [
    {
     "name": "stdout",
     "output_type": "stream",
     "text": [
      "           Name   Age            City  Occupation\n",
      "0      John Doe    28        New York    Engineer\n",
      "1   Alice Smith    34     Los Angeles    Designer\n",
      "2   Bob Johnson    22         Chicago   Developer\n",
      "3    Emma Brown    45           Miami     Manager\n",
      "4  David Wilson    39         Seattle      Doctor\n",
      "5  Sophie Davis    26   San Francisco     Teacher\n"
     ]
    }
   ],
   "source": [
    "# snippet\n",
    "import pandas as pd\n",
    "\n",
    "data = pd.read_csv('people_data.csv')\n",
    "print(data)"
   ]
  },
  {
   "cell_type": "code",
   "execution_count": null,
   "id": "35212d64-a73b-49ee-b80d-61877166879d",
   "metadata": {},
   "outputs": [],
   "source": [
    "Here, we extract data from a file called \"people_data.csv\"."
   ]
  },
  {
   "cell_type": "markdown",
   "id": "38c8d2b8-1ad5-4a1e-a7a0-4ae989ffbdba",
   "metadata": {},
   "source": [
    "We can also save dataframe to a file."
   ]
  },
  {
   "cell_type": "code",
   "execution_count": 3,
   "id": "8dd997b5-d92e-41e2-9e67-e80e5f3ab8a2",
   "metadata": {},
   "outputs": [
    {
     "name": "stdout",
     "output_type": "stream",
     "text": [
      "SAVED TO CSV\n"
     ]
    }
   ],
   "source": [
    "# snippet\n",
    "import pandas as pd\n",
    "\n",
    "data = {\n",
    "    'Name': ['John Doe', 'Alice Smith', 'Bob Johnson', 'Emma Brown', 'David Wilson', 'Sophie Davis'],\n",
    "    'Age': [28, 34, 22, 45, 39, 26],\n",
    "    'City': ['New York', 'Los Angeles', 'Chicago', 'Miami', 'Seattle', 'San Francisco'],\n",
    "    'Occupation': ['Engineer', 'Designer', 'Developer', 'Manager', 'Doctor', 'Teacher']\n",
    "}\n",
    "\n",
    "# create dataframe\n",
    "df = pd.DataFrame(data)\n",
    "\n",
    "# save to csv\n",
    "df.to_csv('people_data1.csv', index=False)\n",
    "\n",
    "print(\"SAVED TO CSV\")"
   ]
  },
  {
   "cell_type": "markdown",
   "id": "7e72d77a-bc7e-4607-bd89-d843c8c21f16",
   "metadata": {},
   "source": [
    "## read_csv() syntax"
   ]
  },
  {
   "cell_type": "code",
   "execution_count": null,
   "id": "377b9c82-7b5b-41f5-96c9-a5cb7c2bad3a",
   "metadata": {},
   "outputs": [],
   "source": [
    "import pandas as pd\n",
    "\n",
    "# Syntax\n",
    "df = pd.read_csv('file_path.csv', sep=',', header='infer', index_col=None, usecols=None, dtype=None, engine='python')"
   ]
  },
  {
   "cell_type": "markdown",
   "id": "a62b47ed-baaf-48e6-9e53-cdaf5a58af1c",
   "metadata": {},
   "source": [
    "### Parameters:\n",
    "**'file_path.csv'**: Path to your CSV file (can be a local file path or a URL).\n",
    "\n",
    "**sep**: Specifies the delimiter (default is , for CSV files). You can change it if your file uses another delimiter (e.g., \\t for tab-separated values).\n",
    "\n",
    "**header**: Row number(s) to use as the column names (default is infer, which means pandas will try to automatically find the header row).\n",
    "\n",
    "**index_col**: Column(s) to set as index (default is None, meaning no index).\n",
    "\n",
    "**usecols**: List of columns to read (default is None, meaning all columns).\n",
    "\n",
    "**dtype**: Dictionary of column types to force (default is None).\n",
    "\n",
    "**engine**: Parsing engine ('python' or 'c', default is 'c')."
   ]
  },
  {
   "cell_type": "markdown",
   "id": "8c8dd744-2e0a-47c6-a339-ffc45a2f9e7d",
   "metadata": {},
   "source": [
    "## so, let's talk about some features"
   ]
  },
  {
   "cell_type": "markdown",
   "id": "86b08b0e-2202-4918-bfe0-481312ebc3fe",
   "metadata": {},
   "source": [
    "1. Read specific columns using read_csv"
   ]
  },
  {
   "cell_type": "markdown",
   "id": "ed0c1849-133d-4f22-950d-bd7c1d0bdbc2",
   "metadata": {},
   "source": [
    "We use the **usecols** parameter"
   ]
  },
  {
   "cell_type": "code",
   "execution_count": 4,
   "id": "87a909d8-a1c1-46cd-a93e-137d2074962b",
   "metadata": {},
   "outputs": [
    {
     "name": "stdout",
     "output_type": "stream",
     "text": [
      "           Name  Age\n",
      "0      John Doe   28\n",
      "1   Alice Smith   34\n",
      "2   Bob Johnson   22\n",
      "3    Emma Brown   45\n",
      "4  David Wilson   39\n",
      "5  Sophie Davis   26\n"
     ]
    }
   ],
   "source": [
    "df = pd.read_csv('people_data1.csv', usecols=['Name', 'Age'])\n",
    "print(df)"
   ]
  },
  {
   "cell_type": "markdown",
   "id": "67d9b2bc-fc53-47bc-95bf-b7fe11221e9b",
   "metadata": {},
   "source": [
    "2. Setting an Index Column (index_col)"
   ]
  },
  {
   "cell_type": "markdown",
   "id": "d7bcb06a-534a-4a0f-a9d1-8a8dc063766b",
   "metadata": {},
   "source": [
    "The index_col parameter sets one or more columns as the DataFrame index, making the specified column(s) act as row labels for easier data referencing."
   ]
  },
  {
   "cell_type": "code",
   "execution_count": 6,
   "id": "b3afe790-0d48-4f0d-b57d-dfeb4f4b2986",
   "metadata": {},
   "outputs": [
    {
     "name": "stdout",
     "output_type": "stream",
     "text": [
      "              Age           City Occupation\n",
      "Name                                       \n",
      "John Doe       28       New York   Engineer\n",
      "Alice Smith    34    Los Angeles   Designer\n",
      "Bob Johnson    22        Chicago  Developer\n",
      "Emma Brown     45          Miami    Manager\n",
      "David Wilson   39        Seattle     Doctor\n",
      "Sophie Davis   26  San Francisco    Teacher\n"
     ]
    }
   ],
   "source": [
    "df = pd.read_csv('people_data1.csv', index_col='Name')\n",
    "print(df)"
   ]
  },
  {
   "cell_type": "code",
   "execution_count": null,
   "id": "fcd7ac7f-5fe8-4e38-b7cc-8ec6c68542d3",
   "metadata": {},
   "outputs": [],
   "source": []
  }
 ],
 "metadata": {
  "kernelspec": {
   "display_name": "Python 3 (ipykernel)",
   "language": "python",
   "name": "python3"
  },
  "language_info": {
   "codemirror_mode": {
    "name": "ipython",
    "version": 3
   },
   "file_extension": ".py",
   "mimetype": "text/x-python",
   "name": "python",
   "nbconvert_exporter": "python",
   "pygments_lexer": "ipython3",
   "version": "3.8.10"
  }
 },
 "nbformat": 4,
 "nbformat_minor": 5
}
