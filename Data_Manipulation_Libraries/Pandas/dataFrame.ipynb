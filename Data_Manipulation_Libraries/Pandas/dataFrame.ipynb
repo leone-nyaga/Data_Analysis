{
 "cells": [
  {
   "cell_type": "markdown",
   "id": "b9a2ef7b-2013-4daf-aca3-4454808747bb",
   "metadata": {},
   "source": [
    "# Pandas DataFrame\n",
    "\n",
    "**Pandas DataFrame** is two-dimensional size-mutable, potentially heterogeneous tabular data structure with labeled axes (rows and columns).\n",
    "A Data frame is a two-dimensional data structure, i.e., data is aligned in a tabular fashion in rows and columns. Pandas DataFrame consists of three principal components, the data, rows, and columns.\n",
    "\n",
    "![Pandas DataFrames](https://github.com/leone-nyaga/Data_Analysis/blob/main/images/pandas-illustration.png)\n",
    "\n"
   ]
  }
 ],
 "metadata": {
  "kernelspec": {
   "display_name": "Python 3 (ipykernel)",
   "language": "python",
   "name": "python3"
  },
  "language_info": {
   "codemirror_mode": {
    "name": "ipython",
    "version": 3
   },
   "file_extension": ".py",
   "mimetype": "text/x-python",
   "name": "python",
   "nbconvert_exporter": "python",
   "pygments_lexer": "ipython3",
   "version": "3.8.10"
  }
 },
 "nbformat": 4,
 "nbformat_minor": 5
}
