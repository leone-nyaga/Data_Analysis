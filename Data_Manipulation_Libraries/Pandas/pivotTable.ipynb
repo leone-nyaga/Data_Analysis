{
 "cells": [
  {
   "cell_type": "markdown",
   "id": "d25c0d0f-159a-465c-838f-8c4d1563d4da",
   "metadata": {},
   "source": [
    "# PIVOT TABLE"
   ]
  },
  {
   "cell_type": "markdown",
   "id": "785e218a-5e3e-4eb4-a371-71613c556a6b",
   "metadata": {},
   "source": [
    "A pivot table is a statistical table that summarizes a substantial table like a big dataset.\n",
    "It is part of data processing.\n",
    "This summary in pivot tables may include mean, median, sum, or other statistical terms.\n",
    "Pivot tables are originally associated with MS Excel, but we can create a pivot table in Pandas using Python using the Pandas DataFrame pivot_table() method."
   ]
  },
  {
   "cell_type": "markdown",
   "id": "46929c32-ea6a-49a2-bc20-46d6a4d8fd62",
   "metadata": {},
   "source": [
    "**A pivot table in pandas is a powerful tool to summarize, aggregate, and reshape data.**"
   ]
  },
  {
   "cell_type": "markdown",
   "id": "f1167be5-2603-4c97-a43b-f53eef3bfe69",
   "metadata": {},
   "source": [
    "## syntax"
   ]
  },
  {
   "cell_type": "code",
   "execution_count": null,
   "id": "88c34ba2-0012-4e74-a943-c5c10bb9a396",
   "metadata": {},
   "outputs": [],
   "source": [
    "import pandas as pd\n",
    "\n",
    "pivot_table = pd.pivot_table(\n",
    "    data,\n",
    "    values='column_to_aggregate',\n",
    "    index='row_group',\n",
    "    columns='column_group',\n",
    "    aggfunc='function_to_aggregate',\n",
    "    fill_value=0  # optional, to replace NaNs\n",
    ")"
   ]
  },
  {
   "cell_type": "markdown",
   "id": "351a47b6-2a9d-4367-add1-04c4921cf3e4",
   "metadata": {},
   "source": [
    "1. **pd.pivot_table()**: "
   ]
  }
 ],
 "metadata": {
  "kernelspec": {
   "display_name": "Python 3 (ipykernel)",
   "language": "python",
   "name": "python3"
  },
  "language_info": {
   "codemirror_mode": {
    "name": "ipython",
    "version": 3
   },
   "file_extension": ".py",
   "mimetype": "text/x-python",
   "name": "python",
   "nbconvert_exporter": "python",
   "pygments_lexer": "ipython3",
   "version": "3.8.10"
  }
 },
 "nbformat": 4,
 "nbformat_minor": 5
}
