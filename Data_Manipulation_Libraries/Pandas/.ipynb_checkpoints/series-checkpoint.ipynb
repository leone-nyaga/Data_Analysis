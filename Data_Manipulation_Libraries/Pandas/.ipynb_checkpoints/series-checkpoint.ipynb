{
 "cells": [
  {
   "cell_type": "markdown",
   "id": "5c7cc81c-8971-4561-a4ea-a296174c9f1d",
   "metadata": {},
   "source": [
    "# PYTHON PANDAS SERIES"
   ]
  },
  {
   "cell_type": "markdown",
   "id": "0b1f2c50-61d2-4b3b-bedc-e7b473b8d56e",
   "metadata": {},
   "source": [
    "Pandas Series is a one-dimensional labeled array capable of holding data of any type (integer, string, float, python objects, etc.)."
   ]
  },
  {
   "cell_type": "markdown",
   "id": "55cf2abd-98c9-4d2a-8c80-31590a911052",
   "metadata": {},
   "source": [
    "## Example 1"
   ]
  },
  {
   "cell_type": "code",
   "execution_count": 1,
   "id": "96d8ba18-2eb8-4282-82af-7179824cb7ce",
   "metadata": {},
   "outputs": [
    {
     "name": "stdout",
     "output_type": "stream",
     "text": [
      "0    0\n",
      "1    1\n",
      "2    2\n",
      "3    3\n",
      "dtype: int64\n"
     ]
    }
   ],
   "source": [
    "import pandas as pd\n",
    "\n",
    "data = [0, 1, 2, 3]\n",
    "\n",
    "ser = pd.Series(data)\n",
    "print(ser)"
   ]
  },
  {
   "cell_type": "markdown",
   "id": "eb667dc8-3215-4229-ba82-44675e94cfdf",
   "metadata": {},
   "source": [
    "## Example 2"
   ]
  },
  {
   "cell_type": "code",
   "execution_count": 3,
   "id": "bfadc351-c8d1-4203-a21b-7616ed7cf941",
   "metadata": {},
   "outputs": [
    {
     "name": "stdout",
     "output_type": "stream",
     "text": [
      "Mike    20\n",
      "Jane    25\n",
      "Mary    30\n",
      "Joe     35\n",
      "dtype: int64\n"
     ]
    }
   ],
   "source": [
    "import pandas as pd\n",
    "\n",
    "ages = [20, 25, 30, 35]\n",
    "s = pd.Series(ages, index=[\"Mike\", \"Jane\", \"Mary\", \"Joe\"])\n",
    "print(s)"
   ]
  },
  {
   "cell_type": "markdown",
   "id": "e3f26cdc-aa59-4449-856f-f98b31c4a22e",
   "metadata": {},
   "source": [
    "## Example 3 Creating a Series from a dictionary"
   ]
  },
  {
   "cell_type": "code",
   "execution_count": 4,
   "id": "eea1045b-5551-4ca0-b507-63b3abe9d687",
   "metadata": {},
   "outputs": [
    {
     "name": "stdout",
     "output_type": "stream",
     "text": [
      "Mike    50000\n",
      "Jane    45000\n",
      "Mary    37000\n",
      "Joe     40000\n",
      "dtype: int64\n"
     ]
    }
   ],
   "source": [
    "import pandas as pd\n",
    "\n",
    "salaries = {\n",
    "    \"Mike\": 50000,\n",
    "    \"Jane\": 45000,\n",
    "    \"Mary\": 37000,\n",
    "    \"Joe\": 40000\n",
    "}\n",
    "\n",
    "s = pd.Series(salaries)\n",
    "print(s)"
   ]
  },
  {
   "cell_type": "markdown",
   "id": "c658411e-6362-46c3-8dfa-fe240797f258",
   "metadata": {},
   "source": [
    "## Example 4 Creating a Series from a DataFrame"
   ]
  },
  {
   "cell_type": "code",
   "execution_count": 5,
   "id": "951a2a7e-75e0-4811-b0a7-c609c3afb8fa",
   "metadata": {},
   "outputs": [],
   "source": [
    "import pandas as pd\n",
    "\n",
    "# Sample DataFrame\n",
    "data = {\n",
    "    \"Name\": [\"Mike\", \"Jane\", \"Mary\", \"Joe\"],\n",
    "    \"Age\": [20, 25, 30, 35],\n",
    "    \"Salary\": [50000, 45000, 37000, 40000]\n",
    "}\n",
    "\n",
    "df = pd.DataFrame(data)"
   ]
  },
  {
   "cell_type": "markdown",
   "id": "ac792b9a-c19c-473a-9435-20c29efff8cb",
   "metadata": {},
   "source": [
    "Let's choose age to be our series"
   ]
  },
  {
   "cell_type": "code",
   "execution_count": 6,
   "id": "56472f4f-a494-457e-90eb-8656390bdf98",
   "metadata": {},
   "outputs": [
    {
     "name": "stdout",
     "output_type": "stream",
     "text": [
      "0    20\n",
      "1    25\n",
      "2    30\n",
      "3    35\n",
      "Name: Age, dtype: int64\n"
     ]
    }
   ],
   "source": [
    "age_series = df[\"Age\"]\n",
    "print(age_series)"
   ]
  },
  {
   "cell_type": "code",
   "execution_count": null,
   "id": "06daa6aa-c103-4910-a1b2-5bbdf01e6e72",
   "metadata": {},
   "outputs": [],
   "source": [
    "Or, you can also choose this way"
   ]
  },
  {
   "cell_type": "code",
   "execution_count": 7,
   "id": "612d99c4-87f8-415c-8e05-d7a94715eca5",
   "metadata": {},
   "outputs": [
    {
     "name": "stdout",
     "output_type": "stream",
     "text": [
      "0    20\n",
      "1    25\n",
      "2    30\n",
      "3    35\n",
      "Name: Age, dtype: int64\n"
     ]
    }
   ],
   "source": [
    "#valid but redundant\n",
    "ageSeries = pd.Series(df[\"Age\"])\n",
    "print(ageSeries)"
   ]
  },
  {
   "cell_type": "markdown",
   "id": "1a482014-836a-4148-abec-217d0545b4c9",
   "metadata": {},
   "source": [
    "# SOME SERIES OPERATIONS"
   ]
  },
  {
   "cell_type": "markdown",
   "id": "1a571041-71f6-43c7-886a-740839c4d94a",
   "metadata": {},
   "source": [
    "Let's create a dataframe about students results"
   ]
  },
  {
   "cell_type": "code",
   "execution_count": 1,
   "id": "fd6ff1b7-ad41-4c23-996a-7527cd5e3073",
   "metadata": {},
   "outputs": [
    {
     "name": "stdout",
     "output_type": "stream",
     "text": [
      "     Name  Math  English  Physics  Biology\n",
      "0   Alice    88       92       75       85\n",
      "1   Brian    75       81       80       79\n",
      "2   Cathy    93       85       72       88\n",
      "3   David    64       77       68       70\n",
      "4    Ella    70       88       90       92\n",
      "5   Frank    85       70       85       83\n",
      "6   Grace    78       79       60       75\n",
      "7  Hannah    90       95       78       89\n",
      "8     Ian    66       73       82       65\n",
      "9   Julia    80       84       76       80\n"
     ]
    }
   ],
   "source": [
    "import pandas as pd\n",
    "\n",
    "data = {\n",
    "    \"Name\": [\"Alice\", \"Brian\", \"Cathy\", \"David\", \"Ella\",\n",
    "             \"Frank\", \"Grace\", \"Hannah\", \"Ian\", \"Julia\"],\n",
    "    \"Math\": [88, 75, 93, 64, 70, 85, 78, 90, 66, 80],\n",
    "    \"English\": [92, 81, 85, 77, 88, 70, 79, 95, 73, 84],\n",
    "    \"Physics\": [75, 80, 72, 68, 90, 85, 60, 78, 82, 76],\n",
    "    \"Biology\": [85, 79, 88, 70, 92, 83, 75, 89, 65, 80]\n",
    "}\n",
    "\n",
    "df = pd.DataFrame(data)\n",
    "print(df)"
   ]
  },
  {
   "cell_type": "markdown",
   "id": "d7b354d7-0fdf-4f7d-878e-f40ede660a9a",
   "metadata": {},
   "source": [
    "1. Total marks per student"
   ]
  },
  {
   "cell_type": "code",
   "execution_count": 4,
   "id": "40b549c7-5594-4b25-9f31-2c5572029076",
   "metadata": {},
   "outputs": [],
   "source": [
    "# axis=1 means sum across columns (i.e., row-wise)\n",
    "# This adds a new column to your DataFrame.\n",
    "df[\"Totals\"] = df[[\"Math\", \"English\", \"Physics\", \"Biology\"]].sum(axis=1)"
   ]
  },
  {
   "cell_type": "markdown",
   "id": "64174507-0ee8-4d36-8302-d8ccd00addac",
   "metadata": {},
   "source": [
    "Lets preview"
   ]
  },
  {
   "cell_type": "code",
   "execution_count": 6,
   "id": "5470e35d-3c09-4370-bc6e-69776ba27c03",
   "metadata": {},
   "outputs": [
    {
     "name": "stdout",
     "output_type": "stream",
     "text": [
      "     Name  Totals\n",
      "0   Alice     340\n",
      "1   Brian     315\n",
      "2   Cathy     338\n",
      "3   David     279\n",
      "4    Ella     340\n",
      "5   Frank     323\n",
      "6   Grace     292\n",
      "7  Hannah     352\n",
      "8     Ian     286\n",
      "9   Julia     320\n"
     ]
    }
   ],
   "source": [
    "print(df[[\"Name\", \"Totals\"]])"
   ]
  },
  {
   "cell_type": "markdown",
   "id": "efd30053-f946-4184-971a-d5066774f142",
   "metadata": {},
   "source": [
    "2. Average score per subject"
   ]
  },
  {
   "cell_type": "code",
   "execution_count": 8,
   "id": "78cac00a-cf69-4f04-92fa-a907a8951c9f",
   "metadata": {},
   "outputs": [
    {
     "name": "stdout",
     "output_type": "stream",
     "text": [
      "Math       78.9\n",
      "English    82.4\n",
      "Physics    76.6\n",
      "Biology    80.6\n",
      "dtype: float64\n"
     ]
    }
   ],
   "source": [
    "sub_avg = df[[\"Math\", \"English\", \"Physics\", \"Biology\"]].mean()\n",
    "print(sub_avg)"
   ]
  },
  {
   "cell_type": "markdown",
   "id": "4535afe2-6482-4c08-836b-ead76dc3693a",
   "metadata": {},
   "source": [
    "3. Top Scorer in each subject"
   ]
  },
  {
   "cell_type": "markdown",
   "id": "d0f73a70-8ce4-4766-b576-3e54beafe7bf",
   "metadata": {},
   "source": [
    "\".idxmax()\" method is used to find the highest number in a column"
   ]
  },
  {
   "cell_type": "code",
   "execution_count": 12,
   "id": "b552886a-cbd8-45eb-9b07-0ba9f8f20000",
   "metadata": {},
   "outputs": [
    {
     "name": "stdout",
     "output_type": "stream",
     "text": [
      "Top scorer in Math: Cathy with 93\n"
     ]
    }
   ],
   "source": [
    "# highest mark in maths\n",
    "top_math_name = df.loc[df[\"Math\"].idxmax(), \"Name\"]\n",
    "top_math_score = df.loc[df[\"Math\"].idxmax(), \"Math\"]\n",
    "print(f\"Top scorer in Math: {top_math_name} with {top_math_score}\")"
   ]
  },
  {
   "cell_type": "code",
   "execution_count": 13,
   "id": "b84f711a-4f54-4114-9660-edcfb446de57",
   "metadata": {},
   "outputs": [
    {
     "name": "stdout",
     "output_type": "stream",
     "text": [
      "Top scorer in Math: Hannah with 95\n"
     ]
    }
   ],
   "source": [
    "#highest mark in english\n",
    "top_eng_name = df.loc[df[\"English\"].idxmax(), \"Name\"]\n",
    "top_eng_score = df.loc[df[\"English\"].idxmax(), \"English\"]\n",
    "print(f\"Top scorer in English: {top_eng_name} with {top_eng_score}\")"
   ]
  },
  {
   "cell_type": "code",
   "execution_count": 14,
   "id": "efc2e13b-69c5-44eb-b0fc-3b4031b8d1bd",
   "metadata": {},
   "outputs": [
    {
     "name": "stdout",
     "output_type": "stream",
     "text": [
      "Top scorer in Physics: Ella with 90\n"
     ]
    }
   ],
   "source": [
    "#highest physics score\n",
    "top_phy_name = df.loc[df[\"Physics\"].idxmax(), \"Name\"]\n",
    "top_phy_score = df.loc[df[\"Physics\"].idxmax(), \"Physics\"]\n",
    "print(f\"Top scorer in Physics: {top_phy_name} with {top_phy_score}\")"
   ]
  },
  {
   "cell_type": "code",
   "execution_count": 15,
   "id": "1b5d65b9-7ec3-47e8-ae97-7f8f0d499422",
   "metadata": {},
   "outputs": [
    {
     "name": "stdout",
     "output_type": "stream",
     "text": [
      "Top scorer in Biology: Ella with 92\n"
     ]
    }
   ],
   "source": [
    "#highest biology score\n",
    "top_bio_name = df.loc[df[\"Biology\"].idxmax(), \"Name\"]\n",
    "top_bio_score = df.loc[df[\"Biology\"].idxmax(), \"Biology\"]\n",
    "print(f\"Top scorer in Biology: {top_bio_name} with {top_bio_score}\")"
   ]
  },
  {
   "cell_type": "markdown",
   "id": "34fce662-42d4-4108-bcff-31b810d14241",
   "metadata": {},
   "source": [
    "Using a for loop"
   ]
  },
  {
   "cell_type": "code",
   "execution_count": 16,
   "id": "0aa18e5e-81ab-4e95-ad0a-3c33ec003396",
   "metadata": {},
   "outputs": [
    {
     "name": "stdout",
     "output_type": "stream",
     "text": [
      "Top scorer in Math: Cathy with 93\n",
      "Top scorer in English: Hannah with 95\n",
      "Top scorer in Physics: Ella with 90\n",
      "Top scorer in Biology: Ella with 92\n"
     ]
    }
   ],
   "source": [
    "# List of subjects\n",
    "subjects = [\"Math\", \"English\", \"Physics\", \"Biology\"]\n",
    "\n",
    "# Loop through each subject to find the top scorer\n",
    "for subject in subjects:\n",
    "    # Get the name and score of the top scorer in the subject\n",
    "    top_scorer_name = df.loc[df[subject].idxmax(), \"Name\"]\n",
    "    top_scorer_score = df.loc[df[subject].idxmax(), subject]\n",
    "    \n",
    "    # Print the result\n",
    "    print(f\"Top scorer in {subject}: {top_scorer_name} with {top_scorer_score}\")"
   ]
  },
  {
   "cell_type": "markdown",
   "id": "004a3582-e4fc-4e7e-8480-2326a9b4eb84",
   "metadata": {},
   "source": [
    "4. Filtering Students (e.g., Total > 300)"
   ]
  },
  {
   "cell_type": "code",
   "execution_count": 17,
   "id": "4efcbaab-5d62-47ba-baab-fc312d15f534",
   "metadata": {},
   "outputs": [
    {
     "name": "stdout",
     "output_type": "stream",
     "text": [
      "     Name  Math  English  Physics  Biology  Totals\n",
      "0   Alice    88       92       75       85     340\n",
      "1   Brian    75       81       80       79     315\n",
      "2   Cathy    93       85       72       88     338\n",
      "4    Ella    70       88       90       92     340\n",
      "5   Frank    85       70       85       83     323\n",
      "7  Hannah    90       95       78       89     352\n",
      "9   Julia    80       84       76       80     320\n"
     ]
    }
   ],
   "source": [
    "filtered_students = df[df[\"Totals\"] >= 300]\n",
    "print(filtered_students)"
   ]
  },
  {
   "cell_type": "markdown",
   "id": "816b0e74-6bfa-4f57-979a-19421e188083",
   "metadata": {},
   "source": [
    "5. Creating a Grade Column Based on Total Marks"
   ]
  },
  {
   "cell_type": "markdown",
   "id": "1c9aa95a-4b52-4afe-9c15-46783eba5f7e",
   "metadata": {},
   "source": [
    "\".apply()\" is  to apply the assign_grade() function to each student's total marks."
   ]
  },
  {
   "cell_type": "code",
   "execution_count": 19,
   "id": "3b347f06-6441-45b3-af3c-9f59817aa56e",
   "metadata": {},
   "outputs": [
    {
     "name": "stdout",
     "output_type": "stream",
     "text": [
      "     Name  Totals Grade\n",
      "0   Alice     340     B\n",
      "1   Brian     315     B\n",
      "2   Cathy     338     B\n",
      "3   David     279     C\n",
      "4    Ella     340     B\n",
      "5   Frank     323     B\n",
      "6   Grace     292     C\n",
      "7  Hannah     352     B\n",
      "8     Ian     286     C\n",
      "9   Julia     320     B\n"
     ]
    }
   ],
   "source": [
    "def assign_grade(total):\n",
    "    if total > 360:\n",
    "        return \"A\"\n",
    "    elif total > 300:\n",
    "        return \"B\"\n",
    "    elif total > 240:\n",
    "        return \"C\"\n",
    "    else:\n",
    "        return \"D\"\n",
    "\n",
    "df[\"Grade\"] = df[\"Totals\"].apply(assign_grade)\n",
    "print(df[[\"Name\", \"Totals\", \"Grade\"]])"
   ]
  },
  {
   "cell_type": "markdown",
   "id": "b30820e3-0ea7-4df3-a3fa-d97ac8d2959c",
   "metadata": {},
   "source": [
    "6. Ranking Students by Subject"
   ]
  },
  {
   "cell_type": "code",
   "execution_count": null,
   "id": "d6e13790-e5cd-4dfa-bed6-cd2dd7e0856e",
   "metadata": {},
   "outputs": [],
   "source": [
    "+ **.rank(ascending=False)** gives the highest score as rank 1.\n",
    "+ **The method=\"min\"** ensures that students with the same score get the same rank."
   ]
  },
  {
   "cell_type": "code",
   "execution_count": 20,
   "id": "c440b747-0823-42ac-bd5d-127a1df344d9",
   "metadata": {},
   "outputs": [
    {
     "name": "stdout",
     "output_type": "stream",
     "text": [
      "     Name  Math  Math_Rank\n",
      "0   Alice    88        3.0\n",
      "1   Brian    75        7.0\n",
      "2   Cathy    93        1.0\n",
      "3   David    64       10.0\n",
      "4    Ella    70        8.0\n",
      "5   Frank    85        4.0\n",
      "6   Grace    78        6.0\n",
      "7  Hannah    90        2.0\n",
      "8     Ian    66        9.0\n",
      "9   Julia    80        5.0\n"
     ]
    }
   ],
   "source": [
    "# Ranking students by Math scores (highest = 1)\n",
    "df[\"Math_Rank\"] = df[\"Math\"].rank(ascending=False, method=\"min\")\n",
    "print(df[[\"Name\", \"Math\", \"Math_Rank\"]])"
   ]
  },
  {
   "cell_type": "code",
   "execution_count": null,
   "id": "b8f566c2-33c3-4053-8c62-63d8e39e6c3c",
   "metadata": {},
   "outputs": [],
   "source": [
    "7. Rank Students by Highest Total Score"
   ]
  },
  {
   "cell_type": "code",
   "execution_count": 22,
   "id": "3394deef-2752-4fb3-a690-0806d541d73f",
   "metadata": {},
   "outputs": [
    {
     "name": "stdout",
     "output_type": "stream",
     "text": [
      "     Name  Totals  Total_Rank\n",
      "0   Alice     340         2.0\n",
      "1   Brian     315         7.0\n",
      "2   Cathy     338         4.0\n",
      "3   David     279        10.0\n",
      "4    Ella     340         2.0\n",
      "5   Frank     323         5.0\n",
      "6   Grace     292         8.0\n",
      "7  Hannah     352         1.0\n",
      "8     Ian     286         9.0\n",
      "9   Julia     320         6.0\n"
     ]
    }
   ],
   "source": [
    "df[\"Total_Rank\"] = df[\"Totals\"].rank(ascending=False, method=\"min\")\n",
    "print(df[[\"Name\", \"Totals\", \"Total_Rank\"]])"
   ]
  },
  {
   "cell_type": "code",
   "execution_count": null,
   "id": "69788fb4-aaea-43a2-995d-84b6b5130895",
   "metadata": {},
   "outputs": [],
   "source": []
  }
 ],
 "metadata": {
  "kernelspec": {
   "display_name": "Python 3 (ipykernel)",
   "language": "python",
   "name": "python3"
  },
  "language_info": {
   "codemirror_mode": {
    "name": "ipython",
    "version": 3
   },
   "file_extension": ".py",
   "mimetype": "text/x-python",
   "name": "python",
   "nbconvert_exporter": "python",
   "pygments_lexer": "ipython3",
   "version": "3.8.10"
  }
 },
 "nbformat": 4,
 "nbformat_minor": 5
}
