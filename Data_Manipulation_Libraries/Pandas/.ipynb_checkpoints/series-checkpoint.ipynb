{
 "cells": [
  {
   "cell_type": "markdown",
   "id": "5c7cc81c-8971-4561-a4ea-a296174c9f1d",
   "metadata": {},
   "source": [
    "# PYTHON PANDAS SERIES"
   ]
  },
  {
   "cell_type": "markdown",
   "id": "0b1f2c50-61d2-4b3b-bedc-e7b473b8d56e",
   "metadata": {},
   "source": [
    "Pandas Series is a one-dimensional labeled array capable of holding data of any type (integer, string, float, python objects, etc.)."
   ]
  },
  {
   "cell_type": "markdown",
   "id": "55cf2abd-98c9-4d2a-8c80-31590a911052",
   "metadata": {},
   "source": [
    "## Example 1"
   ]
  },
  {
   "cell_type": "code",
   "execution_count": 1,
   "id": "96d8ba18-2eb8-4282-82af-7179824cb7ce",
   "metadata": {},
   "outputs": [
    {
     "name": "stdout",
     "output_type": "stream",
     "text": [
      "0    0\n",
      "1    1\n",
      "2    2\n",
      "3    3\n",
      "dtype: int64\n"
     ]
    }
   ],
   "source": [
    "import pandas as pd\n",
    "\n",
    "data = [0, 1, 2, 3]\n",
    "\n",
    "ser = pd.Series(data)\n",
    "print(ser)"
   ]
  },
  {
   "cell_type": "markdown",
   "id": "eb667dc8-3215-4229-ba82-44675e94cfdf",
   "metadata": {},
   "source": [
    "## Example 2"
   ]
  },
  {
   "cell_type": "code",
   "execution_count": 3,
   "id": "bfadc351-c8d1-4203-a21b-7616ed7cf941",
   "metadata": {},
   "outputs": [
    {
     "name": "stdout",
     "output_type": "stream",
     "text": [
      "Mike    20\n",
      "Jane    25\n",
      "Mary    30\n",
      "Joe     35\n",
      "dtype: int64\n"
     ]
    }
   ],
   "source": [
    "import pandas as pd\n",
    "\n",
    "ages = [20, 25, 30, 35]\n",
    "s = pd.Series(ages, index=[\"Mike\", \"Jane\", \"Mary\", \"Joe\"])\n",
    "print(s)"
   ]
  },
  {
   "cell_type": "markdown",
   "id": "e3f26cdc-aa59-4449-856f-f98b31c4a22e",
   "metadata": {},
   "source": [
    "## Example 3 Creating a Series from a dictionary"
   ]
  },
  {
   "cell_type": "code",
   "execution_count": 4,
   "id": "eea1045b-5551-4ca0-b507-63b3abe9d687",
   "metadata": {},
   "outputs": [
    {
     "name": "stdout",
     "output_type": "stream",
     "text": [
      "Mike    50000\n",
      "Jane    45000\n",
      "Mary    37000\n",
      "Joe     40000\n",
      "dtype: int64\n"
     ]
    }
   ],
   "source": [
    "import pandas as pd\n",
    "\n",
    "salaries = {\n",
    "    \"Mike\": 50000,\n",
    "    \"Jane\": 45000,\n",
    "    \"Mary\": 37000,\n",
    "    \"Joe\": 40000\n",
    "}\n",
    "\n",
    "s = pd.Series(salaries)\n",
    "print(s)"
   ]
  },
  {
   "cell_type": "markdown",
   "id": "c658411e-6362-46c3-8dfa-fe240797f258",
   "metadata": {},
   "source": [
    "## Example 4 Creating a Series from a DataFrame"
   ]
  },
  {
   "cell_type": "code",
   "execution_count": 5,
   "id": "951a2a7e-75e0-4811-b0a7-c609c3afb8fa",
   "metadata": {},
   "outputs": [],
   "source": [
    "import pandas as pd\n",
    "\n",
    "# Sample DataFrame\n",
    "data = {\n",
    "    \"Name\": [\"Mike\", \"Jane\", \"Mary\", \"Joe\"],\n",
    "    \"Age\": [20, 25, 30, 35],\n",
    "    \"Salary\": [50000, 45000, 37000, 40000]\n",
    "}\n",
    "\n",
    "df = pd.DataFrame(data)"
   ]
  },
  {
   "cell_type": "markdown",
   "id": "ac792b9a-c19c-473a-9435-20c29efff8cb",
   "metadata": {},
   "source": [
    "Let's choose age to be our series"
   ]
  },
  {
   "cell_type": "code",
   "execution_count": 6,
   "id": "56472f4f-a494-457e-90eb-8656390bdf98",
   "metadata": {},
   "outputs": [
    {
     "name": "stdout",
     "output_type": "stream",
     "text": [
      "0    20\n",
      "1    25\n",
      "2    30\n",
      "3    35\n",
      "Name: Age, dtype: int64\n"
     ]
    }
   ],
   "source": [
    "age_series = df[\"Age\"]\n",
    "print(age_series)"
   ]
  },
  {
   "cell_type": "code",
   "execution_count": null,
   "id": "06daa6aa-c103-4910-a1b2-5bbdf01e6e72",
   "metadata": {},
   "outputs": [],
   "source": [
    "Or, you can also choose this way"
   ]
  },
  {
   "cell_type": "code",
   "execution_count": 7,
   "id": "612d99c4-87f8-415c-8e05-d7a94715eca5",
   "metadata": {},
   "outputs": [
    {
     "name": "stdout",
     "output_type": "stream",
     "text": [
      "0    20\n",
      "1    25\n",
      "2    30\n",
      "3    35\n",
      "Name: Age, dtype: int64\n"
     ]
    }
   ],
   "source": [
    "#valid but redundant\n",
    "ageSeries = pd.Series(df[\"Age\"])\n",
    "print(ageSeries)"
   ]
  },
  {
   "cell_type": "code",
   "execution_count": null,
   "id": "b3ea64c8-b0dc-4431-8f9e-0a2beead98a2",
   "metadata": {},
   "outputs": [],
   "source": []
  }
 ],
 "metadata": {
  "kernelspec": {
   "display_name": "Python 3 (ipykernel)",
   "language": "python",
   "name": "python3"
  },
  "language_info": {
   "codemirror_mode": {
    "name": "ipython",
    "version": 3
   },
   "file_extension": ".py",
   "mimetype": "text/x-python",
   "name": "python",
   "nbconvert_exporter": "python",
   "pygments_lexer": "ipython3",
   "version": "3.8.10"
  }
 },
 "nbformat": 4,
 "nbformat_minor": 5
}
