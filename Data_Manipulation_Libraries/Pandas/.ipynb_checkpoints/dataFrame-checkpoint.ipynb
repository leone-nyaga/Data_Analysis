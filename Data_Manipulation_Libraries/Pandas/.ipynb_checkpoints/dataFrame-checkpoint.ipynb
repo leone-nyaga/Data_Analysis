{
 "cells": [
  {
   "cell_type": "markdown",
   "id": "b9a2ef7b-2013-4daf-aca3-4454808747bb",
   "metadata": {},
   "source": [
    "# Pandas DataFrame\n",
    "\n",
    "**Pandas DataFrame** is two-dimensional size-mutable, potentially heterogeneous tabular data structure with labeled axes (rows and columns).\n",
    "A Data frame is a two-dimensional data structure, i.e., data is aligned in a tabular fashion in rows and columns. Pandas DataFrame consists of three principal components, the data, rows, and columns.\n",
    "\n",
    "![Pandas DataFrames](https://github.com/leone-nyaga/Data_Analysis/blob/main/images/pandas-illustration.png)\n",
    "\n",
    "## Creating a Pandas DataFrame\n",
    "\n",
    "Pandas DataFrame will be created by loading the datasets from existing storage, storage can be SQL Database, CSV file, and Excel file.\n",
    "Pandas DataFrame can be created from the lists, dictionary, and from a list of dictionary etc.\n",
    "\n",
    "+ [Creating a DataFrame using a list](https://www.geeksforgeeks.org/create-a-pandas-dataframe-from-lists/): DataFrame can be created using a single list or a list of lists."
   ]
  },
  {
   "cell_type": "code",
   "execution_count": 1,
   "id": "d6f3606e-18f8-4650-b6c1-ded3ba5a322b",
   "metadata": {},
   "outputs": [
    {
     "name": "stdout",
     "output_type": "stream",
     "text": [
      "        0\n",
      "0   Geeks\n",
      "1     For\n",
      "2   Geeks\n",
      "3      is\n",
      "4  portal\n",
      "5     for\n",
      "6   Geeks\n"
     ]
    }
   ],
   "source": [
    "import pandas as pd\n",
    " \n",
    "# list of strings\n",
    "lst = ['Geeks', 'For', 'Geeks', 'is', \n",
    "            'portal', 'for', 'Geeks']\n",
    " \n",
    "# Calling DataFrame constructor on list\n",
    "df = pd.DataFrame(lst)\n",
    "print(df)\n"
   ]
  },
  {
   "cell_type": "markdown",
   "id": "10af036a-0118-4873-9563-b60bf37ad34e",
   "metadata": {},
   "source": [
    "+ [Creating DataFrame from dict of ndarray/lists](https://www.geeksforgeeks.org/python-create-a-pandas-dataframe-from-a-dict-of-equal-length-lists/): To create DataFrame from dict of narray/list, all the narray must be of same length.\n",
    "If index is passed then the length index should be equal to the length of arrays. If no index is passed, then by default, index will be range(n) where n is the array length."
   ]
  },
  {
   "cell_type": "code",
   "execution_count": 2,
   "id": "b998d89b-43a9-4019-9f14-0525e4995287",
   "metadata": {},
   "outputs": [
    {
     "name": "stdout",
     "output_type": "stream",
     "text": [
      "    Name  Age\n",
      "0    Tom   20\n",
      "1   nick   21\n",
      "2  krish   19\n",
      "3   jack   18\n"
     ]
    }
   ],
   "source": [
    "# Python code demonstrate creating \n",
    "# DataFrame from dict narray / lists \n",
    "# By default addresses.\n",
    " \n",
    "import pandas as pd\n",
    " \n",
    "# intialise data of lists.\n",
    "data = {'Name':['Tom', 'nick', 'krish', 'jack'],\n",
    "        'Age':[20, 21, 19, 18]}\n",
    " \n",
    "# Create DataFrame\n",
    "df = pd.DataFrame(data)\n",
    " \n",
    "# Print the output.\n",
    "print(df)"
   ]
  },
  {
   "cell_type": "markdown",
   "id": "e8c2e10f-34d3-4d02-befb-8dd4e0073516",
   "metadata": {},
   "source": [
    "# Dealing with Rows and Columns in Pandas DataFrame\n",
    "\n",
    "A Data frame is a two-dimensional data structure, i.e., data is aligned in a tabular fashion in rows and columns.\n",
    "We can perform basic operations on rows/columns like selecting, deleting, adding, and renaming.\n",
    "\n",
    "+ [Column Selection](https://www.geeksforgeeks.org/how-to-select-multiple-columns-in-a-pandas-dataframe/): In Order to select a column in Pandas DataFrame, we can either access the columns by calling them by their columns name."
   ]
  },
  {
   "cell_type": "code",
   "execution_count": 1,
   "id": "ba695690-b93f-4dbf-85cd-7712d333e99a",
   "metadata": {},
   "outputs": [
    {
     "name": "stdout",
     "output_type": "stream",
     "text": [
      "     Name Qualification\n",
      "0     Jai           Msc\n",
      "1  Princi            MA\n",
      "2  Gaurav           MCA\n",
      "3    Anuj           Phd\n"
     ]
    }
   ],
   "source": [
    "# Import pandas package\n",
    "import pandas as pd\n",
    " \n",
    "# Define a dictionary containing employee data\n",
    "data = {'Name':['Jai', 'Princi', 'Gaurav', 'Anuj'],\n",
    "        'Age':[27, 24, 22, 32],\n",
    "        'Address':['Delhi', 'Kanpur', 'Allahabad', 'Kannauj'],\n",
    "        'Qualification':['Msc', 'MA', 'MCA', 'Phd']}\n",
    " \n",
    "# Convert the dictionary into DataFrame \n",
    "df = pd.DataFrame(data)\n",
    " \n",
    "# select two columns\n",
    "print(df[['Name', 'Qualification']])"
   ]
  },
  {
   "cell_type": "code",
   "execution_count": null,
   "id": "8b44ba66-698e-4b33-a0b3-b948d03d68d7",
   "metadata": {},
   "outputs": [],
   "source": [
    "EAZZY DUZZ IT!"
   ]
  },
  {
   "cell_type": "markdown",
   "id": "fa959b84-d75b-402f-9a86-d9c5f642f7ca",
   "metadata": {},
   "source": [
    "+ [Row Selection](https://www.geeksforgeeks.org/python-pandas-extracting-rows-using-loc/): Pandas provide a unique method to retrieve rows from a Data frame.\n",
    "[DataFrame.loc[]](https://www.geeksforgeeks.org/python-pandas-extracting-rows-using-loc/) method is used to retrieve rows from Pandas DataFrame. Rows can also be selected by passing integer location to an [iloc[]](https://www.geeksforgeeks.org/python-pandas-extracting-rows-using-loc/) function.\n",
    "\n",
    "p.s. loc -> location, iloc -> integer location"
   ]
  },
  {
   "cell_type": "code",
   "execution_count": null,
   "id": "be9ffad3-275e-42b2-a9b0-99ec59e75a79",
   "metadata": {},
   "outputs": [],
   "source": [
    "import pandas as pd\n",
    "\n",
    "# Sample DataFrame with Name, Age, and City\n",
    "data = {'Name': ['Alice', 'Bob', 'Charlie', 'David', 'Eva'],\n",
    "        'Age': [25, 30, 35, 40, 22],\n",
    "        'City': ['New York', 'Los Angeles', 'Chicago', 'Houston', 'Phoenix']}\n",
    "\n",
    "df = pd.DataFrame(data)\n",
    "print(df.loc[2])\n",
    "print(\"\\n\")\n",
    "\n",
    "print(df.iloc[0])\n",
    "print(\"\\n\")\n",
    "\n",
    "print(df.iloc[0:3])  # Selects rows at position 0, 1, and 2(slicing)\n",
    "print(\"\\n\")\n"
   ]
  },
  {
   "cell_type": "code",
   "execution_count": null,
   "id": "2cdbdd43-1bf3-4c14-85f4-942b1f398026",
   "metadata": {},
   "outputs": [],
   "source": []
  }
 ],
 "metadata": {
  "kernelspec": {
   "display_name": "Python 3 (ipykernel)",
   "language": "python",
   "name": "python3"
  },
  "language_info": {
   "codemirror_mode": {
    "name": "ipython",
    "version": 3
   },
   "file_extension": ".py",
   "mimetype": "text/x-python",
   "name": "python",
   "nbconvert_exporter": "python",
   "pygments_lexer": "ipython3",
   "version": "3.8.10"
  }
 },
 "nbformat": 4,
 "nbformat_minor": 5
}
