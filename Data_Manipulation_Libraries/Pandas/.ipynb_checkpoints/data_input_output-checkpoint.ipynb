{
 "cells": [
  {
   "cell_type": "markdown",
   "id": "42a10486-1936-4d90-be90-08378791c1ed",
   "metadata": {},
   "source": [
    "# PANDAS READ CSV IN PYTHON"
   ]
  },
  {
   "cell_type": "markdown",
   "id": "321d2264-666e-457f-9930-b4d15a1e96eb",
   "metadata": {},
   "source": [
    "CSV stands for Comma-Separated Values.\n",
    "It is a simple text-based file format used to store tabular data (like a spreadsheet or database table) in which each line represents a row and each value within that row is separated by a comma."
   ]
  },
  {
   "cell_type": "code",
   "execution_count": 2,
   "id": "03f5661f-3d46-4dbd-9b79-7766d7c9acd7",
   "metadata": {},
   "outputs": [
    {
     "name": "stdout",
     "output_type": "stream",
     "text": [
      "           Name   Age            City  Occupation\n",
      "0      John Doe    28        New York    Engineer\n",
      "1   Alice Smith    34     Los Angeles    Designer\n",
      "2   Bob Johnson    22         Chicago   Developer\n",
      "3    Emma Brown    45           Miami     Manager\n",
      "4  David Wilson    39         Seattle      Doctor\n",
      "5  Sophie Davis    26   San Francisco     Teacher\n"
     ]
    }
   ],
   "source": [
    "# snippet\n",
    "import pandas as pd\n",
    "\n",
    "data = pd.read_csv('people_data.csv')\n",
    "print(data)"
   ]
  },
  {
   "cell_type": "code",
   "execution_count": null,
   "id": "35212d64-a73b-49ee-b80d-61877166879d",
   "metadata": {},
   "outputs": [],
   "source": [
    "Here, we extract data from a file called \"people_data.csv\"."
   ]
  },
  {
   "cell_type": "markdown",
   "id": "38c8d2b8-1ad5-4a1e-a7a0-4ae989ffbdba",
   "metadata": {},
   "source": [
    "We can also save dataframe to a file."
   ]
  },
  {
   "cell_type": "code",
   "execution_count": 1,
   "id": "8dd997b5-d92e-41e2-9e67-e80e5f3ab8a2",
   "metadata": {},
   "outputs": [
    {
     "name": "stdout",
     "output_type": "stream",
     "text": [
      "SAVED TO CSV\n"
     ]
    }
   ],
   "source": [
    "# snippet\n",
    "import pandas as pd\n",
    "\n",
    "data = {\n",
    "    'Name': ['John Doe', 'Alice Smith', 'Bob Johnson', 'Emma Brown', 'David Wilson', 'Sophie Davis'],\n",
    "    'Age': [28, 34, 22, 45, 39, 26],\n",
    "    'City': ['New York', 'Los Angeles', 'Chicago', 'Miami', 'Seattle', 'San Francisco'],\n",
    "    'Occupation': ['Engineer', 'Designer', 'Developer', 'Manager', 'Doctor', 'Teacher']\n",
    "}\n",
    "\n",
    "# create dataframe\n",
    "df = pd.DataFrame(data)\n",
    "\n",
    "# save to csv\n",
    "df.to_csv('people_data1.csv', index=False)\n",
    "\n",
    "print(\"SAVED TO CSV\")"
   ]
  },
  {
   "cell_type": "code",
   "execution_count": null,
   "id": "87a65c8b-f411-4579-a1e7-c1cda34aea85",
   "metadata": {},
   "outputs": [],
   "source": []
  }
 ],
 "metadata": {
  "kernelspec": {
   "display_name": "Python 3 (ipykernel)",
   "language": "python",
   "name": "python3"
  },
  "language_info": {
   "codemirror_mode": {
    "name": "ipython",
    "version": 3
   },
   "file_extension": ".py",
   "mimetype": "text/x-python",
   "name": "python",
   "nbconvert_exporter": "python",
   "pygments_lexer": "ipython3",
   "version": "3.8.10"
  }
 },
 "nbformat": 4,
 "nbformat_minor": 5
}
