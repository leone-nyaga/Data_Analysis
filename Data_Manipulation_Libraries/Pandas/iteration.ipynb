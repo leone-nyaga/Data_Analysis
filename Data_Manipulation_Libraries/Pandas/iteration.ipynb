{
 "cells": [
  {
   "cell_type": "markdown",
   "id": "d27cea44-f58d-4014-b7cb-7218b997dc63",
   "metadata": {},
   "source": [
    "# Iterating over rows and columns"
   ]
  },
  {
   "cell_type": "markdown",
   "id": "cc77e4f0-9169-4fa0-b6a7-784f0fc542e2",
   "metadata": {},
   "source": [
    "Iteration is a general term for taking each item of something, one after another.\n",
    "Pandas DataFrame consists of rows and columns so, in order to iterate over dataframe, we have to iterate a dataframe like a dictionary."
   ]
  },
  {
   "cell_type": "markdown",
   "id": "99b7aa3c-6805-483a-a14d-6c7c355c5c8d",
   "metadata": {},
   "source": [
    "## Iterating over rows"
   ]
  },
  {
   "cell_type": "markdown",
   "id": "6ca71e18-1a4c-4d8e-9deb-f11eef2ec9a7",
   "metadata": {},
   "source": [
    "In order to iterate over rows, we can use three function **iteritems()**, **iterrows()**, **itertuples()**.\n",
    "These three function will help in iteration over rows."
   ]
  }
 ],
 "metadata": {
  "kernelspec": {
   "display_name": "Python 3 (ipykernel)",
   "language": "python",
   "name": "python3"
  },
  "language_info": {
   "codemirror_mode": {
    "name": "ipython",
    "version": 3
   },
   "file_extension": ".py",
   "mimetype": "text/x-python",
   "name": "python",
   "nbconvert_exporter": "python",
   "pygments_lexer": "ipython3",
   "version": "3.8.10"
  }
 },
 "nbformat": 4,
 "nbformat_minor": 5
}
