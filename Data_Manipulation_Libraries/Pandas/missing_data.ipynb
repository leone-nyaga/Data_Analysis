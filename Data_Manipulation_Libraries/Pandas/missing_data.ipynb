{
 "cells": [
  {
   "cell_type": "markdown",
   "id": "6807bcc9-8012-41af-9676-5c6e56e267c9",
   "metadata": {},
   "source": [
    "# Working with Missing Data in Pandas"
   ]
  },
  {
   "cell_type": "markdown",
   "id": "00e50b7b-bbd8-4cc5-ab6e-64e8292e147e",
   "metadata": {},
   "source": [
    "In Pandas, missing values often arise from uncollected data or incomplete entries."
   ]
  },
  {
   "cell_type": "markdown",
   "id": "98cd8bd9-1dd1-4f03-ad4e-54d4cb73b09b",
   "metadata": {},
   "source": [
    "In Pandas, missing values are represented as:\n",
    "\n",
    "+ **None**: A Python object commonly used to represent missing values in object-type arrays.\n",
    "+ **NaN**: A special floating-point value from NumPy, which is recognized by all systems that use IEEE floating-point standards."
   ]
  },
  {
   "cell_type": "markdown",
   "id": "c0a0ad87-a616-4128-8ab9-803ccf7788c5",
   "metadata": {},
   "source": [
    "## Checking for Missing Values in Pandas DataFrame"
   ]
  },
  {
   "cell_type": "markdown",
   "id": "97fb6eec-0d65-4a1e-9705-9bfc8b6e2e75",
   "metadata": {},
   "source": [
    "For finding the missing values and handling them, Pandas gives us two convenient functions: **isnull()** and **notnull()**. \n",
    "They assist us in detecting if a value is NaN or not, which facilitates data cleaning and preprocessing in a DataFrame or Series."
   ]
  },
  {
   "cell_type": "markdown",
   "id": "780350ab-eee8-4ce4-9781-8ee9a1cfc02d",
   "metadata": {},
   "source": [
    "1. Checking for Missing Values Using isnull()"
   ]
  },
  {
   "cell_type": "markdown",
   "id": "9ddae5af-be11-405f-892d-398b11b9bf12",
   "metadata": {},
   "source": [
    "**isnull()** returns a DataFrame of Boolean values, where True represents missing data (NaN).\n",
    "This is handy if you want to find and fill missing data in a dataset."
   ]
  },
  {
   "cell_type": "code",
   "execution_count": 3,
   "id": "8ee8f645-c4e3-45f2-a391-d03d7fb4e70a",
   "metadata": {},
   "outputs": [
    {
     "name": "stdout",
     "output_type": "stream",
     "text": [
      "   First Score  Second Score  Third Score\n",
      "0        False         False         True\n",
      "1        False         False        False\n",
      "2         True         False        False\n",
      "3        False          True        False\n"
     ]
    }
   ],
   "source": [
    "# Importing pandas and numpy\n",
    "import pandas as pd\n",
    "\n",
    "\n",
    "# Sample DataFrame with missing values\n",
    "d = {'First Score': [100, 90, None, 95],\n",
    "        'Second Score': [30, 45, 56, None],\n",
    "        'Third Score': [None, 40, 80, 98]}\n",
    "df = pd.DataFrame(d)\n",
    "\n",
    "# Checking for missing values using isnull()\n",
    "mv = df.isnull()\n",
    "\n",
    "print(mv)"
   ]
  },
  {
   "cell_type": "markdown",
   "id": "e1a1c134-f6d7-4211-9a6e-3fe6964886f7",
   "metadata": {},
   "source": [
    "To use **NaN**, we have to call **Numpy** because Pandas relies on NumPy's implementation of NaN for missing values."
   ]
  },
  {
   "cell_type": "code",
   "execution_count": 4,
   "id": "e389c352-45c3-4b13-a2ef-252d8071c166",
   "metadata": {},
   "outputs": [
    {
     "name": "stdout",
     "output_type": "stream",
     "text": [
      "   First Score  Second Score  Third Score\n",
      "0        False         False         True\n",
      "1        False         False        False\n",
      "2         True         False        False\n",
      "3        False          True        False\n"
     ]
    }
   ],
   "source": [
    "import pandas as pd\n",
    "import numpy as np  # Import numpy to use np.nan\n",
    "\n",
    "# Sample DataFrame with missing values\n",
    "d = {'First Score': [100, 90, np.nan, 95],  # Use np.nan here\n",
    "     'Second Score': [30, 45, 56, np.nan],   # Use np.nan here\n",
    "     'Third Score': [np.nan, 40, 80, 98]}    # Use np.nan here\n",
    "\n",
    "df = pd.DataFrame(d)\n",
    "\n",
    "# Checking for missing values using isnull()\n",
    "mv = df.isnull()\n",
    "\n",
    "print(mv)"
   ]
  },
  {
   "cell_type": "code",
   "execution_count": null,
   "id": "d8ba040e-1b7d-49ae-9034-7a61c8ec473d",
   "metadata": {},
   "outputs": [],
   "source": [
    "import pandas as pd\n"
   ]
  },
  {
   "cell_type": "markdown",
   "id": "132fa272-3ed8-4eea-8d33-e8fc06e91e50",
   "metadata": {},
   "source": [
    "# Cleaning Data usind the \"Titanic\" dataset"
   ]
  },
  {
   "cell_type": "markdown",
   "id": "46118e12-dadb-4217-ab33-a5fb74c1fad7",
   "metadata": {},
   "source": [
    "Seaborn has a lot of datasets to practice with. So we'll use Titanic"
   ]
  },
  {
   "cell_type": "markdown",
   "id": "bf1597cd-f152-4dac-b183-29dcd97c3f75",
   "metadata": {},
   "source": [
    "## Getting the dataset"
   ]
  },
  {
   "cell_type": "code",
   "execution_count": 10,
   "id": "4febae2f-d119-4d01-8915-9fa175ba7b78",
   "metadata": {},
   "outputs": [],
   "source": [
    "import pandas as pd\n",
    "import numpy as np\n",
    "import seaborn as sns\n",
    "import matplotlib.pyplot as plt\n",
    "\n",
    "df = sns.load_dataset(\"titanic\")"
   ]
  },
  {
   "cell_type": "markdown",
   "id": "fdc1d33e-0e5c-451e-8f25-a89efb36037d",
   "metadata": {},
   "source": [
    "Let's preview the dataset"
   ]
  },
  {
   "cell_type": "code",
   "execution_count": 2,
   "id": "4dc1e189-9c6e-4788-a342-65dd63508e10",
   "metadata": {},
   "outputs": [
    {
     "data": {
      "text/html": [
       "<div>\n",
       "<style scoped>\n",
       "    .dataframe tbody tr th:only-of-type {\n",
       "        vertical-align: middle;\n",
       "    }\n",
       "\n",
       "    .dataframe tbody tr th {\n",
       "        vertical-align: top;\n",
       "    }\n",
       "\n",
       "    .dataframe thead th {\n",
       "        text-align: right;\n",
       "    }\n",
       "</style>\n",
       "<table border=\"1\" class=\"dataframe\">\n",
       "  <thead>\n",
       "    <tr style=\"text-align: right;\">\n",
       "      <th></th>\n",
       "      <th>survived</th>\n",
       "      <th>pclass</th>\n",
       "      <th>sex</th>\n",
       "      <th>age</th>\n",
       "      <th>sibsp</th>\n",
       "      <th>parch</th>\n",
       "      <th>fare</th>\n",
       "      <th>embarked</th>\n",
       "      <th>class</th>\n",
       "      <th>who</th>\n",
       "      <th>adult_male</th>\n",
       "      <th>deck</th>\n",
       "      <th>embark_town</th>\n",
       "      <th>alive</th>\n",
       "      <th>alone</th>\n",
       "    </tr>\n",
       "  </thead>\n",
       "  <tbody>\n",
       "    <tr>\n",
       "      <th>0</th>\n",
       "      <td>0</td>\n",
       "      <td>3</td>\n",
       "      <td>male</td>\n",
       "      <td>22.0</td>\n",
       "      <td>1</td>\n",
       "      <td>0</td>\n",
       "      <td>7.2500</td>\n",
       "      <td>S</td>\n",
       "      <td>Third</td>\n",
       "      <td>man</td>\n",
       "      <td>True</td>\n",
       "      <td>NaN</td>\n",
       "      <td>Southampton</td>\n",
       "      <td>no</td>\n",
       "      <td>False</td>\n",
       "    </tr>\n",
       "    <tr>\n",
       "      <th>1</th>\n",
       "      <td>1</td>\n",
       "      <td>1</td>\n",
       "      <td>female</td>\n",
       "      <td>38.0</td>\n",
       "      <td>1</td>\n",
       "      <td>0</td>\n",
       "      <td>71.2833</td>\n",
       "      <td>C</td>\n",
       "      <td>First</td>\n",
       "      <td>woman</td>\n",
       "      <td>False</td>\n",
       "      <td>C</td>\n",
       "      <td>Cherbourg</td>\n",
       "      <td>yes</td>\n",
       "      <td>False</td>\n",
       "    </tr>\n",
       "    <tr>\n",
       "      <th>2</th>\n",
       "      <td>1</td>\n",
       "      <td>3</td>\n",
       "      <td>female</td>\n",
       "      <td>26.0</td>\n",
       "      <td>0</td>\n",
       "      <td>0</td>\n",
       "      <td>7.9250</td>\n",
       "      <td>S</td>\n",
       "      <td>Third</td>\n",
       "      <td>woman</td>\n",
       "      <td>False</td>\n",
       "      <td>NaN</td>\n",
       "      <td>Southampton</td>\n",
       "      <td>yes</td>\n",
       "      <td>True</td>\n",
       "    </tr>\n",
       "    <tr>\n",
       "      <th>3</th>\n",
       "      <td>1</td>\n",
       "      <td>1</td>\n",
       "      <td>female</td>\n",
       "      <td>35.0</td>\n",
       "      <td>1</td>\n",
       "      <td>0</td>\n",
       "      <td>53.1000</td>\n",
       "      <td>S</td>\n",
       "      <td>First</td>\n",
       "      <td>woman</td>\n",
       "      <td>False</td>\n",
       "      <td>C</td>\n",
       "      <td>Southampton</td>\n",
       "      <td>yes</td>\n",
       "      <td>False</td>\n",
       "    </tr>\n",
       "    <tr>\n",
       "      <th>4</th>\n",
       "      <td>0</td>\n",
       "      <td>3</td>\n",
       "      <td>male</td>\n",
       "      <td>35.0</td>\n",
       "      <td>0</td>\n",
       "      <td>0</td>\n",
       "      <td>8.0500</td>\n",
       "      <td>S</td>\n",
       "      <td>Third</td>\n",
       "      <td>man</td>\n",
       "      <td>True</td>\n",
       "      <td>NaN</td>\n",
       "      <td>Southampton</td>\n",
       "      <td>no</td>\n",
       "      <td>True</td>\n",
       "    </tr>\n",
       "  </tbody>\n",
       "</table>\n",
       "</div>"
      ],
      "text/plain": [
       "   survived  pclass     sex   age  sibsp  parch     fare embarked  class  \\\n",
       "0         0       3    male  22.0      1      0   7.2500        S  Third   \n",
       "1         1       1  female  38.0      1      0  71.2833        C  First   \n",
       "2         1       3  female  26.0      0      0   7.9250        S  Third   \n",
       "3         1       1  female  35.0      1      0  53.1000        S  First   \n",
       "4         0       3    male  35.0      0      0   8.0500        S  Third   \n",
       "\n",
       "     who  adult_male deck  embark_town alive  alone  \n",
       "0    man        True  NaN  Southampton    no  False  \n",
       "1  woman       False    C    Cherbourg   yes  False  \n",
       "2  woman       False  NaN  Southampton   yes   True  \n",
       "3  woman       False    C  Southampton   yes  False  \n",
       "4    man        True  NaN  Southampton    no   True  "
      ]
     },
     "execution_count": 2,
     "metadata": {},
     "output_type": "execute_result"
    }
   ],
   "source": [
    "df.head()"
   ]
  },
  {
   "cell_type": "code",
   "execution_count": 3,
   "id": "2d37cf5f-f523-400b-8fca-0037778922a6",
   "metadata": {},
   "outputs": [
    {
     "data": {
      "text/html": [
       "<div>\n",
       "<style scoped>\n",
       "    .dataframe tbody tr th:only-of-type {\n",
       "        vertical-align: middle;\n",
       "    }\n",
       "\n",
       "    .dataframe tbody tr th {\n",
       "        vertical-align: top;\n",
       "    }\n",
       "\n",
       "    .dataframe thead th {\n",
       "        text-align: right;\n",
       "    }\n",
       "</style>\n",
       "<table border=\"1\" class=\"dataframe\">\n",
       "  <thead>\n",
       "    <tr style=\"text-align: right;\">\n",
       "      <th></th>\n",
       "      <th>survived</th>\n",
       "      <th>pclass</th>\n",
       "      <th>sex</th>\n",
       "      <th>age</th>\n",
       "      <th>sibsp</th>\n",
       "      <th>parch</th>\n",
       "      <th>fare</th>\n",
       "      <th>embarked</th>\n",
       "      <th>class</th>\n",
       "      <th>who</th>\n",
       "      <th>adult_male</th>\n",
       "      <th>deck</th>\n",
       "      <th>embark_town</th>\n",
       "      <th>alive</th>\n",
       "      <th>alone</th>\n",
       "    </tr>\n",
       "  </thead>\n",
       "  <tbody>\n",
       "    <tr>\n",
       "      <th>886</th>\n",
       "      <td>0</td>\n",
       "      <td>2</td>\n",
       "      <td>male</td>\n",
       "      <td>27.0</td>\n",
       "      <td>0</td>\n",
       "      <td>0</td>\n",
       "      <td>13.00</td>\n",
       "      <td>S</td>\n",
       "      <td>Second</td>\n",
       "      <td>man</td>\n",
       "      <td>True</td>\n",
       "      <td>NaN</td>\n",
       "      <td>Southampton</td>\n",
       "      <td>no</td>\n",
       "      <td>True</td>\n",
       "    </tr>\n",
       "    <tr>\n",
       "      <th>887</th>\n",
       "      <td>1</td>\n",
       "      <td>1</td>\n",
       "      <td>female</td>\n",
       "      <td>19.0</td>\n",
       "      <td>0</td>\n",
       "      <td>0</td>\n",
       "      <td>30.00</td>\n",
       "      <td>S</td>\n",
       "      <td>First</td>\n",
       "      <td>woman</td>\n",
       "      <td>False</td>\n",
       "      <td>B</td>\n",
       "      <td>Southampton</td>\n",
       "      <td>yes</td>\n",
       "      <td>True</td>\n",
       "    </tr>\n",
       "    <tr>\n",
       "      <th>888</th>\n",
       "      <td>0</td>\n",
       "      <td>3</td>\n",
       "      <td>female</td>\n",
       "      <td>NaN</td>\n",
       "      <td>1</td>\n",
       "      <td>2</td>\n",
       "      <td>23.45</td>\n",
       "      <td>S</td>\n",
       "      <td>Third</td>\n",
       "      <td>woman</td>\n",
       "      <td>False</td>\n",
       "      <td>NaN</td>\n",
       "      <td>Southampton</td>\n",
       "      <td>no</td>\n",
       "      <td>False</td>\n",
       "    </tr>\n",
       "    <tr>\n",
       "      <th>889</th>\n",
       "      <td>1</td>\n",
       "      <td>1</td>\n",
       "      <td>male</td>\n",
       "      <td>26.0</td>\n",
       "      <td>0</td>\n",
       "      <td>0</td>\n",
       "      <td>30.00</td>\n",
       "      <td>C</td>\n",
       "      <td>First</td>\n",
       "      <td>man</td>\n",
       "      <td>True</td>\n",
       "      <td>C</td>\n",
       "      <td>Cherbourg</td>\n",
       "      <td>yes</td>\n",
       "      <td>True</td>\n",
       "    </tr>\n",
       "    <tr>\n",
       "      <th>890</th>\n",
       "      <td>0</td>\n",
       "      <td>3</td>\n",
       "      <td>male</td>\n",
       "      <td>32.0</td>\n",
       "      <td>0</td>\n",
       "      <td>0</td>\n",
       "      <td>7.75</td>\n",
       "      <td>Q</td>\n",
       "      <td>Third</td>\n",
       "      <td>man</td>\n",
       "      <td>True</td>\n",
       "      <td>NaN</td>\n",
       "      <td>Queenstown</td>\n",
       "      <td>no</td>\n",
       "      <td>True</td>\n",
       "    </tr>\n",
       "  </tbody>\n",
       "</table>\n",
       "</div>"
      ],
      "text/plain": [
       "     survived  pclass     sex   age  sibsp  parch   fare embarked   class  \\\n",
       "886         0       2    male  27.0      0      0  13.00        S  Second   \n",
       "887         1       1  female  19.0      0      0  30.00        S   First   \n",
       "888         0       3  female   NaN      1      2  23.45        S   Third   \n",
       "889         1       1    male  26.0      0      0  30.00        C   First   \n",
       "890         0       3    male  32.0      0      0   7.75        Q   Third   \n",
       "\n",
       "       who  adult_male deck  embark_town alive  alone  \n",
       "886    man        True  NaN  Southampton    no   True  \n",
       "887  woman       False    B  Southampton   yes   True  \n",
       "888  woman       False  NaN  Southampton    no  False  \n",
       "889    man        True    C    Cherbourg   yes   True  \n",
       "890    man        True  NaN   Queenstown    no   True  "
      ]
     },
     "execution_count": 3,
     "metadata": {},
     "output_type": "execute_result"
    }
   ],
   "source": [
    "df.tail()"
   ]
  },
  {
   "cell_type": "markdown",
   "id": "cb858542-6152-4807-a15a-2619fe24bd07",
   "metadata": {},
   "source": [
    "| Column         | Description |\n",
    "|----------------|-------------|\n",
    "| **survived**   | Indicates whether the passenger survived. `0 = No`, `1 = Yes`. |\n",
    "| **pclass**     | Passenger class. `1 = First`, `2 = Second`, `3 = Third`. It's a proxy for socio-economic status. |\n",
    "| **sex**        | Gender of the passenger (`male` or `female`). |\n",
    "| **age**        | Age of the passenger in years. May contain `NaN` for missing values. |\n",
    "| **sibsp**      | Number of siblings or spouses aboard the Titanic. |\n",
    "| **parch**      | Number of parents or children aboard the Titanic. |\n",
    "| **fare**       | Fare paid for the ticket. |\n",
    "| **embarked**   | Port of embarkation (`C = Cherbourg`, `Q = Queenstown`, `S = Southampton`). |\n",
    "| **class**      | A string version of `pclass` (`First`, `Second`, `Third`). |\n",
    "| **who**        | Simplified description of person: `man`, `woman`, or `child`. |\n",
    "| **adult_male** | Boolean indicating whether the passenger is an adult male (`True` or `False`). |\n",
    "| **deck**       | The deck the passenger was on (`A`–`G`, may be `NaN`). |\n",
    "| **embark_town  | Town the passenger embarked from (`Cherbourg`, `Queenstown`, `Southampton`). |\n",
    "| **alive**      | String version of `survived` (`yes` or `no`). |\n",
    "| **alone**      | Boolean indicating whether the passenger was alone (`True` if `sibsp + parch == 0`, else `False`). |"
   ]
  },
  {
   "cell_type": "markdown",
   "id": "cfbd92ea-169e-448e-ae5d-65fa5c4e9ef9",
   "metadata": {},
   "source": [
    "1. Checking for missing values"
   ]
  },
  {
   "cell_type": "code",
   "execution_count": 9,
   "id": "8e0090db-b626-490c-a6f7-8ccbb8f8692d",
   "metadata": {},
   "outputs": [
    {
     "name": "stdout",
     "output_type": "stream",
     "text": [
      "age            177\n",
      "embarked         2\n",
      "deck           688\n",
      "embark_town      2\n",
      "dtype: int64\n"
     ]
    }
   ],
   "source": [
    "missing_data = df.isnull().sum()\n",
    "print(missing_data[missing_data > 0])"
   ]
  },
  {
   "cell_type": "markdown",
   "id": "98320f2c-03f3-4b80-aa17-163ba1a0a886",
   "metadata": {},
   "source": [
    "Here, we see we have:\n",
    "+ **age** has 177 missing entries.\n",
    "+ **embarked** and **embark_town** each have 2.\n",
    "+ **deck** is missing for the majority of passengers (688 out of 891)."
   ]
  },
  {
   "cell_type": "markdown",
   "id": "58786d91-2306-4cf1-959c-a437f71e95b8",
   "metadata": {},
   "source": [
    "## visualizing the missing entries"
   ]
  },
  {
   "cell_type": "code",
   "execution_count": 11,
   "id": "82b6c261-cc74-4465-96f6-c2f687e5a218",
   "metadata": {},
   "outputs": [
    {
     "data": {
      "image/png": "[encoded data removed]",
      "text/plain": [
       "<Figure size 1000x600 with 1 Axes>"
      ]
     },
     "metadata": {},
     "output_type": "display_data"
    }
   ],
   "source": [
    "plt.figure(figsize=(10, 6))\n",
    "sns.heatmap(df.isnull(), cbar=False, cmap=\"viridis\")\n",
    "plt.title(\"Missing Data Heatmap\")\n",
    "plt.show()"
   ]
  },
  {
   "cell_type": "markdown",
   "id": "3f7be615-6cde-4399-ae37-52d2c081d95b",
   "metadata": {},
   "source": [
    "## code explanation"
   ]
  },
  {
   "cell_type": "code",
   "execution_count": null,
   "id": "06e096f7-68d3-470b-ad84-e674e3632a2a",
   "metadata": {},
   "outputs": [],
   "source": [
    "```python\n",
    "plt.figure(figsize=(10, 6))\n",
    "```"
   ]
  },
  {
   "cell_type": "markdown",
   "id": "289b1b2d-a599-4c05-95c8-47af7a62f965",
   "metadata": {},
   "source": [
    "+ This creates a blank figure for the plot.\n",
    "+ **figsize=(10, 6)** sets the width and height of the plot in inches."
   ]
  },
  {
   "cell_type": "code",
   "execution_count": null,
   "id": "02fcdc59-71b5-4282-9d5a-444b39278e0d",
   "metadata": {},
   "outputs": [],
   "source": [
    "```python\n",
    "sns.heatmap(df.isnull(), cbar=False, cmap=\"viridis\")\n",
    "```"
   ]
  },
  {
   "cell_type": "markdown",
   "id": "dbaf4a33-0508-4d5e-a5a9-b072b8a003da",
   "metadata": {},
   "source": [
    "+ **df.isnull()** creates a DataFrame of the same shape as **df**, where each cell is:\n",
    "  + **True** if the original value is missing (**NaN**)\n",
    "  + **False** otherwise\n",
    "+ **sns.heatmap(...)** visualizes this boolean DataFrame:\n",
    "  + Missing values (**True**) are shown in color.\n",
    "  + **cbar=False** hides the color bar on the side (optional).\n",
    "  + **cmap=\"viridis\"** sets the color palette (you can try others like **\"magma\"**, **\"coolwarm\"**)."
   ]
  },
  {
   "cell_type": "code",
   "execution_count": null,
   "id": "39c40f07-c84e-40b6-a2e6-45db9ce75f07",
   "metadata": {},
   "outputs": [],
   "source": [
    "```python\n",
    "plt.title(\"Missing Data Heatmap\")\n",
    "```"
   ]
  },
  {
   "cell_type": "code",
   "execution_count": null,
   "id": "9f2f154b-da84-40c6-8af2-038215eef766",
   "metadata": {},
   "outputs": [],
   "source": [
    "+ Adds a title to the plot"
   ]
  },
  {
   "cell_type": "code",
   "execution_count": null,
   "id": "5f69e2dd-1533-4b2b-9036-263730f8dcc3",
   "metadata": {},
   "outputs": [],
   "source": [
    "```python\n",
    "plt.show()\n",
    "```"
   ]
  },
  {
   "cell_type": "code",
   "execution_count": null,
   "id": "cf3c96a1-0478-4cd6-9259-ff1daf2b6642",
   "metadata": {},
   "outputs": [],
   "source": [
    "+ Renders the heatmap so you can see it."
   ]
  },
  {
   "cell_type": "markdown",
   "id": "66305a0b-5da3-4b7e-9b0d-94797049a265",
   "metadata": {},
   "source": [
    "2. Check for Duplicates"
   ]
  },
  {
   "cell_type": "markdown",
   "id": "80838f6a-a027-4a0d-9913-98748d4fc5e0",
   "metadata": {},
   "source": [
    "**df.duplicated()** returns a boolean series of the same length as the DataFrame df. Each entry will be True if that row is a duplicate of a previous row, and False if it is not."
   ]
  },
  {
   "cell_type": "code",
   "execution_count": 16,
   "id": "bf732988-0ba1-468e-8a5a-99d92327701f",
   "metadata": {},
   "outputs": [
    {
     "name": "stdout",
     "output_type": "stream",
     "text": [
      "Number of duplicated rows: 107\n",
      "Duplicated rows:\n",
      "      survived  pclass     sex   age  sibsp  parch     fare embarked   class  \\\n",
      "47          1       3  female   NaN      0      0   7.7500        Q   Third   \n",
      "76          0       3    male   NaN      0      0   7.8958        S   Third   \n",
      "77          0       3    male   NaN      0      0   8.0500        S   Third   \n",
      "87          0       3    male   NaN      0      0   8.0500        S   Third   \n",
      "95          0       3    male   NaN      0      0   8.0500        S   Third   \n",
      "..        ...     ...     ...   ...    ...    ...      ...      ...     ...   \n",
      "870         0       3    male  26.0      0      0   7.8958        S   Third   \n",
      "877         0       3    male  19.0      0      0   7.8958        S   Third   \n",
      "878         0       3    male   NaN      0      0   7.8958        S   Third   \n",
      "884         0       3    male  25.0      0      0   7.0500        S   Third   \n",
      "886         0       2    male  27.0      0      0  13.0000        S  Second   \n",
      "\n",
      "       who  adult_male deck  embark_town alive  alone  \n",
      "47   woman       False  NaN   Queenstown   yes   True  \n",
      "76     man        True  NaN  Southampton    no   True  \n",
      "77     man        True  NaN  Southampton    no   True  \n",
      "87     man        True  NaN  Southampton    no   True  \n",
      "95     man        True  NaN  Southampton    no   True  \n",
      "..     ...         ...  ...          ...   ...    ...  \n",
      "870    man        True  NaN  Southampton    no   True  \n",
      "877    man        True  NaN  Southampton    no   True  \n",
      "878    man        True  NaN  Southampton    no   True  \n",
      "884    man        True  NaN  Southampton    no   True  \n",
      "886    man        True  NaN  Southampton    no   True  \n",
      "\n",
      "[107 rows x 15 columns]\n"
     ]
    }
   ],
   "source": [
    "duplicates = df.duplicated()\n",
    "\n",
    "# Display the number of duplicated rows\n",
    "print(f\"Number of duplicated rows: {duplicates.sum()}\")\n",
    "\n",
    "# Optionally, view the duplicated rows\n",
    "print(\"Duplicated rows:\\n\", df[duplicates])"
   ]
  },
  {
   "cell_type": "markdown",
   "id": "8ed075e9-f865-4367-be8b-bec75fefd885",
   "metadata": {},
   "source": [
    "To drop duplicates\n",
    "+ **drop_duplicates()** removes duplicates"
   ]
  },
  {
   "cell_type": "code",
   "execution_count": 17,
   "id": "20c27b20-438a-405e-be21-08b2a22c7d0c",
   "metadata": {},
   "outputs": [],
   "source": [
    "df = df.drop_duplicates()"
   ]
  },
  {
   "cell_type": "code",
   "execution_count": 18,
   "id": "6f92ed31-0535-49ce-ab68-31e9c0cf6703",
   "metadata": {},
   "outputs": [
    {
     "name": "stdout",
     "output_type": "stream",
     "text": [
      "Number of duplicated rows: 0\n",
      "Duplicated rows:\n",
      " Empty DataFrame\n",
      "Columns: [survived, pclass, sex, age, sibsp, parch, fare, embarked, class, who, adult_male, deck, embark_town, alive, alone]\n",
      "Index: []\n"
     ]
    }
   ],
   "source": [
    "duplicates = df.duplicated()\n",
    "\n",
    "# Display the number of duplicated rows\n",
    "print(f\"Number of duplicated rows: {duplicates.sum()}\")\n",
    "\n",
    "# Optionally, view the duplicated rows\n",
    "print(\"Duplicated rows:\\n\", df[duplicates])"
   ]
  },
  {
   "cell_type": "markdown",
   "id": "97e31d28-caa9-4e56-aa65-263b5f0458ff",
   "metadata": {},
   "source": [
    "3. Questions"
   ]
  },
  {
   "cell_type": "markdown",
   "id": "8bac326e-7230-4e2c-9dac-6efbec31f2e6",
   "metadata": {},
   "source": [
    "+ Who survived more — men or women?"
   ]
  },
  {
   "cell_type": "markdown",
   "id": "62703601-b82b-4003-8306-d2c2d1593455",
   "metadata": {},
   "source": [
    "4. Check for Outliers\n",
    "Some numerical columns like age and fare could have outliers that might affect our analysis.\n",
    "\n",
    "Actions:\n",
    "Handle outliers: We’ll check if the age or fare columns have extreme values and decide whether to trim or adjust them.\n",
    "\n",
    "5. Feature Engineering\n",
    "We might want to create new columns from existing ones to make the analysis easier.\n",
    "\n",
    "Actions:\n",
    "family_size: We can create a new feature by combining sibsp (siblings/spouses aboard) and parch (parents/children aboard) into one column: family_size = sibsp + parch.\n",
    "\n",
    "6. Data Type Conversions\n",
    "We need to check if any columns need to be converted to the appropriate data type.\n",
    "\n",
    "Actions:\n",
    "Ensure numerical columns like age, fare, sibsp, and parch are of numeric type.\n",
    "\n",
    "Convert categorical columns like sex, embarked, and alive to appropriate numeric or categorical types.\n",
    "\n",
    "7. Dropping Irrelevant or Unnecessary Columns\n",
    "Some columns may not contribute significantly to the analysis, or they may not be needed for our final model.\n",
    "\n",
    "Actions:\n",
    "Consider dropping columns like:\n",
    "\n",
    "deck (if it's mostly missing or irrelevant)\n",
    "\n",
    "who (already represented by sex)\n",
    "\n",
    "class (since it’s redundant with pclass unless you want to keep it as an additional feature)"
   ]
  }
 ],
 "metadata": {
  "kernelspec": {
   "display_name": "Python 3 (ipykernel)",
   "language": "python",
   "name": "python3"
  },
  "language_info": {
   "codemirror_mode": {
    "name": "ipython",
    "version": 3
   },
   "file_extension": ".py",
   "mimetype": "text/x-python",
   "name": "python",
   "nbconvert_exporter": "python",
   "pygments_lexer": "ipython3",
   "version": "3.8.10"
  }
 },
 "nbformat": 4,
 "nbformat_minor": 5
}
